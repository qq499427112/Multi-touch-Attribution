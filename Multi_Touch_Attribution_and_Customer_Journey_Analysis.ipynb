{
  "nbformat": 4,
  "nbformat_minor": 0,
  "metadata": {
    "colab": {
      "name": "Multi-Touch Attribution and Customer Journey Analysis.ipynb",
      "provenance": [],
      "collapsed_sections": []
    },
    "kernelspec": {
      "name": "python3",
      "display_name": "Python 3"
    }
  },
  "cells": [
    {
      "cell_type": "code",
      "metadata": {
        "id": "g64DRT3GdjfF",
        "colab_type": "code",
        "colab": {}
      },
      "source": [
        "# pip install --upgrade google-cloud-bigquery\n",
        "# pip install --upgrade pyarrow \n",
        "# !pip install marketing_attribution_models\n",
        "# !pip install chart_studio"
      ],
      "execution_count": null,
      "outputs": []
    },
    {
      "cell_type": "code",
      "metadata": {
        "id": "aEOqopxKj39p",
        "colab_type": "code",
        "colab": {}
      },
      "source": [
        "from google.colab import auth\n",
        "auth.authenticate_user()"
      ],
      "execution_count": null,
      "outputs": []
    },
    {
      "cell_type": "code",
      "metadata": {
        "id": "Bdf0-w15xU2Z",
        "colab_type": "code",
        "colab": {}
      },
      "source": [
        "from google.cloud import bigquery\n",
        "import pandas as pd\n",
        "import numpy as np\n",
        "import datetime\n",
        "import plotly.express as px\n",
        "import plotly.graph_objects as go\n",
        "from chart_studio.plotly import iplot\n",
        "import seaborn as sns\n",
        "import matplotlib.pyplot as plt\n",
        "from  marketing_attribution_models  import  MAM"
      ],
      "execution_count": null,
      "outputs": []
    },
    {
      "cell_type": "markdown",
      "metadata": {
        "id": "MtHVg91Tn16k",
        "colab_type": "text"
      },
      "source": [
        "# 1. SQL and Data Cleaning\n",
        "## 1.1 Connect to BigQuery and test connection"
      ]
    },
    {
      "cell_type": "code",
      "metadata": {
        "id": "aFEaQBlutWt5",
        "colab_type": "code",
        "colab": {}
      },
      "source": [
        "project_id = \"marketing-analysis\"\n",
        "client = bigquery.Client(project=project_id)"
      ],
      "execution_count": null,
      "outputs": []
    },
    {
      "cell_type": "code",
      "metadata": {
        "id": "vA4ESVk8um_4",
        "colab_type": "code",
        "colab": {
          "base_uri": "https://localhost:8080/",
          "height": 403
        },
        "outputId": "d12dee36-2e2b-4497-be1f-409a0dae314f"
      },
      "source": [
        "# Testing\n",
        "query_job = client.query(\"\"\"\n",
        "SELECT * \n",
        "FROM `bigquery-public-data.google_analytics_sample.ga_sessions_20160801`\n",
        "LIMIT 50\"\"\")\n",
        "results = query_job.to_dataframe()\n",
        "results.info()"
      ],
      "execution_count": null,
      "outputs": [
        {
          "output_type": "stream",
          "text": [
            "<class 'pandas.core.frame.DataFrame'>\n",
            "RangeIndex: 50 entries, 0 to 49\n",
            "Data columns (total 15 columns):\n",
            " #   Column                Non-Null Count  Dtype \n",
            "---  ------                --------------  ----- \n",
            " 0   visitorId             0 non-null      object\n",
            " 1   visitNumber           50 non-null     int64 \n",
            " 2   visitId               50 non-null     int64 \n",
            " 3   visitStartTime        50 non-null     int64 \n",
            " 4   date                  50 non-null     object\n",
            " 5   totals                50 non-null     object\n",
            " 6   trafficSource         50 non-null     object\n",
            " 7   device                50 non-null     object\n",
            " 8   geoNetwork            50 non-null     object\n",
            " 9   customDimensions      50 non-null     object\n",
            " 10  hits                  50 non-null     object\n",
            " 11  fullVisitorId         50 non-null     object\n",
            " 12  userId                0 non-null      object\n",
            " 13  channelGrouping       50 non-null     object\n",
            " 14  socialEngagementType  50 non-null     object\n",
            "dtypes: int64(3), object(12)\n",
            "memory usage: 6.0+ KB\n"
          ],
          "name": "stdout"
        }
      ]
    },
    {
      "cell_type": "code",
      "metadata": {
        "id": "1p0EHlCFaC9k",
        "colab_type": "code",
        "colab": {
          "base_uri": "https://localhost:8080/",
          "height": 52
        },
        "outputId": "eaa28601-75a5-45a5-d1db-301a4b79cdf9"
      },
      "source": [
        "# See what data is in traffic source \n",
        "# Check the first few records to find key data\n",
        "query_ts = client.query(\"\"\"\n",
        "SELECT fullVisitorId, date, channelGrouping, trafficSource.source AS traffic_source\n",
        "FROM `bigquery-public-data.google_analytics_sample.ga_sessions_20160801`\n",
        "LIMIT 50\"\"\")\n",
        "\n",
        "query_ts = query_ts.to_dataframe()\n",
        "query_ts['traffic_source'].unique()"
      ],
      "execution_count": null,
      "outputs": [
        {
          "output_type": "execute_result",
          "data": {
            "text/plain": [
              "array(['youtube.com', 'l.facebook.com', 'm.facebook.com', 'facebook.com',\n",
              "       '(direct)', 'google'], dtype=object)"
            ]
          },
          "metadata": {
            "tags": []
          },
          "execution_count": 8
        }
      ]
    },
    {
      "cell_type": "code",
      "metadata": {
        "id": "1jRnEnlqcL0G",
        "colab_type": "code",
        "colab": {
          "base_uri": "https://localhost:8080/",
          "height": 199
        },
        "outputId": "7ea14e90-b8fa-48f1-99b2-8a0e635db97c"
      },
      "source": [
        "query_ts.head()"
      ],
      "execution_count": null,
      "outputs": [
        {
          "output_type": "execute_result",
          "data": {
            "text/html": [
              "<div>\n",
              "<style scoped>\n",
              "    .dataframe tbody tr th:only-of-type {\n",
              "        vertical-align: middle;\n",
              "    }\n",
              "\n",
              "    .dataframe tbody tr th {\n",
              "        vertical-align: top;\n",
              "    }\n",
              "\n",
              "    .dataframe thead th {\n",
              "        text-align: right;\n",
              "    }\n",
              "</style>\n",
              "<table border=\"1\" class=\"dataframe\">\n",
              "  <thead>\n",
              "    <tr style=\"text-align: right;\">\n",
              "      <th></th>\n",
              "      <th>fullVisitorId</th>\n",
              "      <th>date</th>\n",
              "      <th>channelGrouping</th>\n",
              "      <th>traffic_source</th>\n",
              "    </tr>\n",
              "  </thead>\n",
              "  <tbody>\n",
              "    <tr>\n",
              "      <th>0</th>\n",
              "      <td>7194065619159478122</td>\n",
              "      <td>20160801</td>\n",
              "      <td>Social</td>\n",
              "      <td>youtube.com</td>\n",
              "    </tr>\n",
              "    <tr>\n",
              "      <th>1</th>\n",
              "      <td>8159312408158297118</td>\n",
              "      <td>20160801</td>\n",
              "      <td>Social</td>\n",
              "      <td>youtube.com</td>\n",
              "    </tr>\n",
              "    <tr>\n",
              "      <th>2</th>\n",
              "      <td>9236304747882138291</td>\n",
              "      <td>20160801</td>\n",
              "      <td>Social</td>\n",
              "      <td>youtube.com</td>\n",
              "    </tr>\n",
              "    <tr>\n",
              "      <th>3</th>\n",
              "      <td>1792676004815023069</td>\n",
              "      <td>20160801</td>\n",
              "      <td>Social</td>\n",
              "      <td>youtube.com</td>\n",
              "    </tr>\n",
              "    <tr>\n",
              "      <th>4</th>\n",
              "      <td>7305625498291809599</td>\n",
              "      <td>20160801</td>\n",
              "      <td>Social</td>\n",
              "      <td>youtube.com</td>\n",
              "    </tr>\n",
              "  </tbody>\n",
              "</table>\n",
              "</div>"
            ],
            "text/plain": [
              "         fullVisitorId      date channelGrouping traffic_source\n",
              "0  7194065619159478122  20160801          Social    youtube.com\n",
              "1  8159312408158297118  20160801          Social    youtube.com\n",
              "2  9236304747882138291  20160801          Social    youtube.com\n",
              "3  1792676004815023069  20160801          Social    youtube.com\n",
              "4  7305625498291809599  20160801          Social    youtube.com"
            ]
          },
          "metadata": {
            "tags": []
          },
          "execution_count": 9
        }
      ]
    },
    {
      "cell_type": "markdown",
      "metadata": {
        "id": "n05KxF_GOqRm",
        "colab_type": "text"
      },
      "source": [
        "## 1.2 Querying data using SQL"
      ]
    },
    {
      "cell_type": "code",
      "metadata": {
        "id": "t5gKhnGSxS9O",
        "colab_type": "code",
        "colab": {
          "base_uri": "https://localhost:8080/",
          "height": 199
        },
        "outputId": "3ab9ca2e-cd54-46ea-86ee-1275259ea445"
      },
      "source": [
        "# Get all the data\n",
        "query_job = client.query(\"\"\"\n",
        "SELECT fullVisitorId, date, channelGrouping,\n",
        "    trafficSource.source AS traffic_source,\n",
        "    SUM ( totals.transactions ) AS total_transactions, \n",
        "    SUM ( totals.totalTransactionRevenue ) AS total_transaction_revenue\n",
        "FROM `bigquery-public-data.google_analytics_sample.ga_sessions_*`\n",
        "GROUP BY fullVisitorId, date, channelGrouping, traffic_source;\"\"\")\n",
        "df = query_job.to_dataframe().sort_values(by='total_transactions',ascending=False)\n",
        "df.head()"
      ],
      "execution_count": null,
      "outputs": [
        {
          "output_type": "execute_result",
          "data": {
            "text/html": [
              "<div>\n",
              "<style scoped>\n",
              "    .dataframe tbody tr th:only-of-type {\n",
              "        vertical-align: middle;\n",
              "    }\n",
              "\n",
              "    .dataframe tbody tr th {\n",
              "        vertical-align: top;\n",
              "    }\n",
              "\n",
              "    .dataframe thead th {\n",
              "        text-align: right;\n",
              "    }\n",
              "</style>\n",
              "<table border=\"1\" class=\"dataframe\">\n",
              "  <thead>\n",
              "    <tr style=\"text-align: right;\">\n",
              "      <th></th>\n",
              "      <th>fullVisitorId</th>\n",
              "      <th>date</th>\n",
              "      <th>channelGrouping</th>\n",
              "      <th>traffic_source</th>\n",
              "      <th>total_transactions</th>\n",
              "      <th>total_transaction_revenue</th>\n",
              "    </tr>\n",
              "  </thead>\n",
              "  <tbody>\n",
              "    <tr>\n",
              "      <th>215095</th>\n",
              "      <td>5526675926038480325</td>\n",
              "      <td>20170304</td>\n",
              "      <td>Direct</td>\n",
              "      <td>(direct)</td>\n",
              "      <td>25.0</td>\n",
              "      <td>1.938090e+09</td>\n",
              "    </tr>\n",
              "    <tr>\n",
              "      <th>449854</th>\n",
              "      <td>4983264713224875783</td>\n",
              "      <td>20170304</td>\n",
              "      <td>Direct</td>\n",
              "      <td>(direct)</td>\n",
              "      <td>21.0</td>\n",
              "      <td>1.576330e+09</td>\n",
              "    </tr>\n",
              "    <tr>\n",
              "      <th>231902</th>\n",
              "      <td>8637158932301658318</td>\n",
              "      <td>20170531</td>\n",
              "      <td>Referral</td>\n",
              "      <td>(direct)</td>\n",
              "      <td>15.0</td>\n",
              "      <td>3.820000e+08</td>\n",
              "    </tr>\n",
              "    <tr>\n",
              "      <th>51684</th>\n",
              "      <td>9662800125044386280</td>\n",
              "      <td>20161021</td>\n",
              "      <td>Organic Search</td>\n",
              "      <td>(direct)</td>\n",
              "      <td>14.0</td>\n",
              "      <td>3.163040e+09</td>\n",
              "    </tr>\n",
              "    <tr>\n",
              "      <th>315588</th>\n",
              "      <td>7713012430069756739</td>\n",
              "      <td>20170302</td>\n",
              "      <td>Organic Search</td>\n",
              "      <td>google</td>\n",
              "      <td>12.0</td>\n",
              "      <td>1.319630e+09</td>\n",
              "    </tr>\n",
              "  </tbody>\n",
              "</table>\n",
              "</div>"
            ],
            "text/plain": [
              "              fullVisitorId  ... total_transaction_revenue\n",
              "215095  5526675926038480325  ...              1.938090e+09\n",
              "449854  4983264713224875783  ...              1.576330e+09\n",
              "231902  8637158932301658318  ...              3.820000e+08\n",
              "51684   9662800125044386280  ...              3.163040e+09\n",
              "315588  7713012430069756739  ...              1.319630e+09\n",
              "\n",
              "[5 rows x 6 columns]"
            ]
          },
          "metadata": {
            "tags": []
          },
          "execution_count": 10
        }
      ]
    },
    {
      "cell_type": "code",
      "metadata": {
        "id": "XgQD7QpwIq91",
        "colab_type": "code",
        "colab": {
          "base_uri": "https://localhost:8080/",
          "height": 245
        },
        "outputId": "4f51ce29-0bfe-4f7a-8e1d-a834ce62f1e1"
      },
      "source": [
        "df.info()"
      ],
      "execution_count": null,
      "outputs": [
        {
          "output_type": "stream",
          "text": [
            "<class 'pandas.core.frame.DataFrame'>\n",
            "Int64Index: 847224 entries, 215095 to 847223\n",
            "Data columns (total 6 columns):\n",
            " #   Column                     Non-Null Count   Dtype  \n",
            "---  ------                     --------------   -----  \n",
            " 0   fullVisitorId              847224 non-null  object \n",
            " 1   date                       847224 non-null  object \n",
            " 2   channelGrouping            847224 non-null  object \n",
            " 3   traffic_source             847224 non-null  object \n",
            " 4   total_transactions         11458 non-null   float64\n",
            " 5   total_transaction_revenue  11423 non-null   float64\n",
            "dtypes: float64(2), object(4)\n",
            "memory usage: 45.2+ MB\n"
          ],
          "name": "stdout"
        }
      ]
    },
    {
      "cell_type": "code",
      "metadata": {
        "id": "BmjHHqhNgUC-",
        "colab_type": "code",
        "colab": {}
      },
      "source": [
        "# Save file\n",
        "#df.to_csv('bigquery_ga.csv')"
      ],
      "execution_count": null,
      "outputs": []
    },
    {
      "cell_type": "markdown",
      "metadata": {
        "id": "wHbI7TbjZH6x",
        "colab_type": "text"
      },
      "source": [
        "## 1.2 Data Cleaning"
      ]
    },
    {
      "cell_type": "code",
      "metadata": {
        "id": "TIS4KhZ_Y9OM",
        "colab_type": "code",
        "colab": {}
      },
      "source": [
        "# Read file if saved\n",
        "#df = pd.read_csv('bigquery_ga.csv',index_col=0)\n",
        "df['date'] = pd.to_datetime(df['date'],format='%Y%m%d')"
      ],
      "execution_count": null,
      "outputs": []
    },
    {
      "cell_type": "code",
      "metadata": {
        "id": "wjff4sCx_chA",
        "colab_type": "code",
        "colab": {
          "base_uri": "https://localhost:8080/",
          "height": 175
        },
        "outputId": "c657f822-851c-4daa-e57e-50367af3ba9e"
      },
      "source": [
        "# Check unique value counts of 'channelGrouping' and 'traffic_source' columns\n",
        "df['channelGrouping'].value_counts()"
      ],
      "execution_count": null,
      "outputs": [
        {
          "output_type": "execute_result",
          "data": {
            "text/plain": [
              "Organic Search    356052\n",
              "Social            222610\n",
              "Direct            131037\n",
              "Referral           94410\n",
              "Paid Search        22506\n",
              "Affiliates         15062\n",
              "Display             5440\n",
              "(Other)              107\n",
              "Name: channelGrouping, dtype: int64"
            ]
          },
          "metadata": {
            "tags": []
          },
          "execution_count": 14
        }
      ]
    },
    {
      "cell_type": "code",
      "metadata": {
        "id": "0iJXKlajAEeC",
        "colab_type": "code",
        "colab": {
          "base_uri": "https://localhost:8080/",
          "height": 228
        },
        "outputId": "80c76bd8-b5d5-4bf4-f816-a71695d6bb7c"
      },
      "source": [
        "df['traffic_source'].value_counts()"
      ],
      "execution_count": null,
      "outputs": [
        {
          "output_type": "execute_result",
          "data": {
            "text/plain": [
              "(direct)                    341327\n",
              "google                      224182\n",
              "youtube.com                 209881\n",
              "Partners                     15069\n",
              "analytics.google.com         14328\n",
              "                             ...  \n",
              "ixquick.com                      1\n",
              "digg.com                         1\n",
              "se.yhs4.search.yahoo.com         1\n",
              "msn                              1\n",
              "earth.google.com                 1\n",
              "Name: traffic_source, Length: 275, dtype: int64"
            ]
          },
          "metadata": {
            "tags": []
          },
          "execution_count": 15
        }
      ]
    },
    {
      "cell_type": "code",
      "metadata": {
        "id": "-7J5iVs_D0mO",
        "colab_type": "code",
        "colab": {}
      },
      "source": [
        "# Clean the data and group some of the traffic sources together\n",
        "df_clean = df\n",
        "df_clean['traffic_source_clean']=df_clean['traffic_source'].str.lower().replace('\\\\.com', '').replace('^m\\\\.', '')\n",
        "# Any tracfic source with address such as 'sites.google.com' will be transformed to 'google_product'\n",
        "df_clean.loc[df_clean['traffic_source_clean'].str.contains('\\\\.google', case=False), 'traffic_source_clean'] = 'google_product'\n",
        "# Any tracfic source with address starts with 'google.' will be transformed to 'google'\n",
        "df_clean.loc[df_clean['traffic_source_clean'].str.contains('google\\\\.', case=False), 'traffic_source_clean'] = 'google'\n",
        "# Any tracfic source with address that contains 'facebook' will be transformed to 'facebook'\n",
        "df_clean.loc[df_clean['traffic_source_clean'].str.contains('facebook', case=False), 'traffic_source_clean'] = 'facebook'\n",
        "# Any tracfic source with address that contains 'youtube' will be transformed to 'youtube'\n",
        "df_clean.loc[df_clean['traffic_source_clean'].str.contains('youtube', case=False), 'traffic_source_clean'] = 'youtube'\n",
        "# Any tracfic source with address that contains 'yahoo' will be transformed to 'facebook'\n",
        "df_clean.loc[df_clean['traffic_source_clean'].str.contains('yahoo', case=False), 'traffic_source_clean'] = 'yahoo'"
      ],
      "execution_count": null,
      "outputs": []
    },
    {
      "cell_type": "code",
      "metadata": {
        "id": "oSsw1P4CHZ3r",
        "colab_type": "code",
        "colab": {
          "base_uri": "https://localhost:8080/",
          "height": 210
        },
        "outputId": "350d0715-30a7-4a49-e594-438220afc844"
      },
      "source": [
        "# Check 'traffic_source_clean' value after cleaning\n",
        "df_clean['traffic_source_clean'].value_counts().head(10)"
      ],
      "execution_count": null,
      "outputs": [
        {
          "output_type": "execute_result",
          "data": {
            "text/plain": [
              "(direct)                   341327\n",
              "google                     229546\n",
              "youtube                    209971\n",
              "google_product              21146\n",
              "partners                    15069\n",
              "facebook                     6121\n",
              "dfa                          4935\n",
              "baidu                        3287\n",
              "siliconvalley.about.com      1992\n",
              "reddit.com                   1882\n",
              "Name: traffic_source_clean, dtype: int64"
            ]
          },
          "metadata": {
            "tags": []
          },
          "execution_count": 17
        }
      ]
    },
    {
      "cell_type": "markdown",
      "metadata": {
        "id": "PA5VK2LxqGih",
        "colab_type": "text"
      },
      "source": [
        "- Notice that there's a big gap in value between No.3 and No.4 traffic source\n",
        "- To narrow down our analysis, we only focus on the Top 3 traffic sources "
      ]
    },
    {
      "cell_type": "code",
      "metadata": {
        "id": "kvy0Ygz5nsPA",
        "colab_type": "code",
        "colab": {
          "base_uri": "https://localhost:8080/",
          "height": 105
        },
        "outputId": "ed03d9a7-767a-4daa-c5ae-0189c8475c5b"
      },
      "source": [
        "# Group the rest of the traffic address into \"other source\"\n",
        "not_top3 = df_clean.groupby('traffic_source_clean').size().sort_values(ascending=False).index[3:]\n",
        "df_clean['traffic_source_clean'] = df_clean['traffic_source_clean'].replace(not_top3, 'Other')\n",
        "df_clean['traffic_source_clean'].value_counts()"
      ],
      "execution_count": null,
      "outputs": [
        {
          "output_type": "execute_result",
          "data": {
            "text/plain": [
              "(direct)    341327\n",
              "google      229546\n",
              "youtube     209971\n",
              "Other        66380\n",
              "Name: traffic_source_clean, dtype: int64"
            ]
          },
          "metadata": {
            "tags": []
          },
          "execution_count": 18
        }
      ]
    },
    {
      "cell_type": "markdown",
      "metadata": {
        "id": "LKFMucw8qb43",
        "colab_type": "text"
      },
      "source": [
        "# 2. EDA\n",
        "## 2.1 Understand Channel-Source Combination\n",
        "- \"Last Click\" Attribution Analysis"
      ]
    },
    {
      "cell_type": "code",
      "metadata": {
        "id": "QpF2saveyVSp",
        "colab_type": "code",
        "colab": {
          "base_uri": "https://localhost:8080/",
          "height": 623
        },
        "outputId": "b7b5ce45-f04b-4736-ab19-8de6a1157143"
      },
      "source": [
        "# Group the data by channel and traffic source\n",
        "# Sum up the 'total_transactions' and 'total_transaction_revenue' in each group\n",
        "# Calculate 'revenue_per_conversion' by dividing 'total_transaction_revenue' and the size of each group\n",
        "df_channelvalue = df_clean.groupby(['channelGrouping','traffic_source_clean']).size().to_frame(name = 'count').reset_index()\n",
        "df_channelvalue['total_transactions'] =df_clean.groupby(['channelGrouping','traffic_source_clean'])['total_transactions'].sum().to_frame(name='total_transactions').reset_index()['total_transactions']\n",
        "df_channelvalue['total_transaction_revenue'] =df_clean.groupby(['channelGrouping','traffic_source_clean'])['total_transaction_revenue'].sum().to_frame(name='total_transaction_revenue').reset_index()['total_transaction_revenue']\n",
        "df_channelvalue['revenue_per_conversion'] = (df_channelvalue['total_transaction_revenue']/df_channelvalue['count']).round(decimals=2)\n",
        "df_channelvalue"
      ],
      "execution_count": null,
      "outputs": [
        {
          "output_type": "execute_result",
          "data": {
            "text/html": [
              "<div>\n",
              "<style scoped>\n",
              "    .dataframe tbody tr th:only-of-type {\n",
              "        vertical-align: middle;\n",
              "    }\n",
              "\n",
              "    .dataframe tbody tr th {\n",
              "        vertical-align: top;\n",
              "    }\n",
              "\n",
              "    .dataframe thead th {\n",
              "        text-align: right;\n",
              "    }\n",
              "</style>\n",
              "<table border=\"1\" class=\"dataframe\">\n",
              "  <thead>\n",
              "    <tr style=\"text-align: right;\">\n",
              "      <th></th>\n",
              "      <th>channelGrouping</th>\n",
              "      <th>traffic_source_clean</th>\n",
              "      <th>count</th>\n",
              "      <th>total_transactions</th>\n",
              "      <th>total_transaction_revenue</th>\n",
              "      <th>revenue_per_conversion</th>\n",
              "    </tr>\n",
              "  </thead>\n",
              "  <tbody>\n",
              "    <tr>\n",
              "      <th>0</th>\n",
              "      <td>(Other)</td>\n",
              "      <td>(direct)</td>\n",
              "      <td>2</td>\n",
              "      <td>0.0</td>\n",
              "      <td>0.000000e+00</td>\n",
              "      <td>0.00</td>\n",
              "    </tr>\n",
              "    <tr>\n",
              "      <th>1</th>\n",
              "      <td>(Other)</td>\n",
              "      <td>Other</td>\n",
              "      <td>72</td>\n",
              "      <td>0.0</td>\n",
              "      <td>0.000000e+00</td>\n",
              "      <td>0.00</td>\n",
              "    </tr>\n",
              "    <tr>\n",
              "      <th>2</th>\n",
              "      <td>(Other)</td>\n",
              "      <td>google</td>\n",
              "      <td>33</td>\n",
              "      <td>1.0</td>\n",
              "      <td>1.199000e+07</td>\n",
              "      <td>363333.33</td>\n",
              "    </tr>\n",
              "    <tr>\n",
              "      <th>3</th>\n",
              "      <td>Affiliates</td>\n",
              "      <td>Other</td>\n",
              "      <td>15062</td>\n",
              "      <td>9.0</td>\n",
              "      <td>6.543800e+08</td>\n",
              "      <td>43445.76</td>\n",
              "    </tr>\n",
              "    <tr>\n",
              "      <th>4</th>\n",
              "      <td>Direct</td>\n",
              "      <td>(direct)</td>\n",
              "      <td>131037</td>\n",
              "      <td>2219.0</td>\n",
              "      <td>4.985300e+11</td>\n",
              "      <td>3804498.20</td>\n",
              "    </tr>\n",
              "    <tr>\n",
              "      <th>5</th>\n",
              "      <td>Display</td>\n",
              "      <td>(direct)</td>\n",
              "      <td>73</td>\n",
              "      <td>2.0</td>\n",
              "      <td>7.727000e+07</td>\n",
              "      <td>1058493.15</td>\n",
              "    </tr>\n",
              "    <tr>\n",
              "      <th>6</th>\n",
              "      <td>Display</td>\n",
              "      <td>Other</td>\n",
              "      <td>4935</td>\n",
              "      <td>132.0</td>\n",
              "      <td>1.287872e+11</td>\n",
              "      <td>26096686.93</td>\n",
              "    </tr>\n",
              "    <tr>\n",
              "      <th>7</th>\n",
              "      <td>Display</td>\n",
              "      <td>google</td>\n",
              "      <td>432</td>\n",
              "      <td>18.0</td>\n",
              "      <td>1.472140e+09</td>\n",
              "      <td>3407731.48</td>\n",
              "    </tr>\n",
              "    <tr>\n",
              "      <th>8</th>\n",
              "      <td>Organic Search</td>\n",
              "      <td>(direct)</td>\n",
              "      <td>137501</td>\n",
              "      <td>1360.0</td>\n",
              "      <td>1.354698e+11</td>\n",
              "      <td>985227.45</td>\n",
              "    </tr>\n",
              "    <tr>\n",
              "      <th>9</th>\n",
              "      <td>Organic Search</td>\n",
              "      <td>Other</td>\n",
              "      <td>6426</td>\n",
              "      <td>47.0</td>\n",
              "      <td>2.631080e+09</td>\n",
              "      <td>409442.89</td>\n",
              "    </tr>\n",
              "    <tr>\n",
              "      <th>10</th>\n",
              "      <td>Organic Search</td>\n",
              "      <td>google</td>\n",
              "      <td>212125</td>\n",
              "      <td>2174.0</td>\n",
              "      <td>2.389750e+11</td>\n",
              "      <td>1126576.17</td>\n",
              "    </tr>\n",
              "    <tr>\n",
              "      <th>11</th>\n",
              "      <td>Paid Search</td>\n",
              "      <td>(direct)</td>\n",
              "      <td>10913</td>\n",
              "      <td>231.0</td>\n",
              "      <td>1.966718e+10</td>\n",
              "      <td>1802179.05</td>\n",
              "    </tr>\n",
              "    <tr>\n",
              "      <th>12</th>\n",
              "      <td>Paid Search</td>\n",
              "      <td>Other</td>\n",
              "      <td>1</td>\n",
              "      <td>0.0</td>\n",
              "      <td>0.000000e+00</td>\n",
              "      <td>0.00</td>\n",
              "    </tr>\n",
              "    <tr>\n",
              "      <th>13</th>\n",
              "      <td>Paid Search</td>\n",
              "      <td>google</td>\n",
              "      <td>11592</td>\n",
              "      <td>248.0</td>\n",
              "      <td>2.787625e+10</td>\n",
              "      <td>2404783.47</td>\n",
              "    </tr>\n",
              "    <tr>\n",
              "      <th>14</th>\n",
              "      <td>Referral</td>\n",
              "      <td>(direct)</td>\n",
              "      <td>61801</td>\n",
              "      <td>5348.0</td>\n",
              "      <td>6.788477e+11</td>\n",
              "      <td>10984413.52</td>\n",
              "    </tr>\n",
              "    <tr>\n",
              "      <th>15</th>\n",
              "      <td>Referral</td>\n",
              "      <td>Other</td>\n",
              "      <td>27245</td>\n",
              "      <td>187.0</td>\n",
              "      <td>3.832334e+10</td>\n",
              "      <td>1406619.20</td>\n",
              "    </tr>\n",
              "    <tr>\n",
              "      <th>16</th>\n",
              "      <td>Referral</td>\n",
              "      <td>google</td>\n",
              "      <td>5364</td>\n",
              "      <td>8.0</td>\n",
              "      <td>4.291700e+08</td>\n",
              "      <td>80009.32</td>\n",
              "    </tr>\n",
              "    <tr>\n",
              "      <th>17</th>\n",
              "      <td>Social</td>\n",
              "      <td>Other</td>\n",
              "      <td>12639</td>\n",
              "      <td>120.0</td>\n",
              "      <td>8.041710e+09</td>\n",
              "      <td>636261.57</td>\n",
              "    </tr>\n",
              "    <tr>\n",
              "      <th>18</th>\n",
              "      <td>Social</td>\n",
              "      <td>youtube</td>\n",
              "      <td>209971</td>\n",
              "      <td>11.0</td>\n",
              "      <td>3.550700e+08</td>\n",
              "      <td>1691.04</td>\n",
              "    </tr>\n",
              "  </tbody>\n",
              "</table>\n",
              "</div>"
            ],
            "text/plain": [
              "   channelGrouping  ... revenue_per_conversion\n",
              "0          (Other)  ...                   0.00\n",
              "1          (Other)  ...                   0.00\n",
              "2          (Other)  ...              363333.33\n",
              "3       Affiliates  ...               43445.76\n",
              "4           Direct  ...             3804498.20\n",
              "5          Display  ...             1058493.15\n",
              "6          Display  ...            26096686.93\n",
              "7          Display  ...             3407731.48\n",
              "8   Organic Search  ...              985227.45\n",
              "9   Organic Search  ...              409442.89\n",
              "10  Organic Search  ...             1126576.17\n",
              "11     Paid Search  ...             1802179.05\n",
              "12     Paid Search  ...                   0.00\n",
              "13     Paid Search  ...             2404783.47\n",
              "14        Referral  ...            10984413.52\n",
              "15        Referral  ...             1406619.20\n",
              "16        Referral  ...               80009.32\n",
              "17          Social  ...              636261.57\n",
              "18          Social  ...                1691.04\n",
              "\n",
              "[19 rows x 6 columns]"
            ]
          },
          "metadata": {
            "tags": []
          },
          "execution_count": 20
        }
      ]
    },
    {
      "cell_type": "code",
      "metadata": {
        "id": "juvaHSKPl6q-",
        "colab_type": "code",
        "colab": {}
      },
      "source": [
        "# df_channelvalue['total_transactions'] = df_channelvalue['total_transactions'].astype('int64')\n",
        "# df_channelvalue['total_transaction_revenue'] = df_channelvalue['total_transaction_revenue'].astype('int64')"
      ],
      "execution_count": null,
      "outputs": []
    },
    {
      "cell_type": "markdown",
      "metadata": {
        "id": "BqykqmHGQJus",
        "colab_type": "text"
      },
      "source": [
        "## 2.2 Visualize the findings "
      ]
    },
    {
      "cell_type": "code",
      "metadata": {
        "id": "r9lwS5bY0xTf",
        "colab_type": "code",
        "colab": {
          "base_uri": "https://localhost:8080/",
          "height": 517
        },
        "outputId": "d4fddb12-b6c7-4ede-feab-120405dfa082"
      },
      "source": [
        "# Visualize Average Revenue Per Channel\n",
        "data = px.data.gapminder()\n",
        "df_channelvalue= df_channelvalue.sort_values(by='revenue_per_conversion',ascending=True)\n",
        "fig = px.bar(df_channelvalue, x=df_channelvalue['revenue_per_conversion'], y= df_channelvalue['channelGrouping'].astype(str)+' '+df_channelvalue['traffic_source_clean'],\n",
        "             hover_data = ['total_transaction_revenue', 'total_transactions'], color='revenue_per_conversion',\n",
        "             labels={'total_transaction_revenue':'Total Revenue','revenue_per_conversion':'Revenue per Entry',\n",
        "                     'total_transactions':'Total Transations'}, height=500,orientation='h')\n",
        "fig.update_layout(title_text='Average Revenue Per Channel Channel')\n",
        "fig.show()"
      ],
      "execution_count": null,
      "outputs": [
        {
          "output_type": "display_data",
          "data": {
            "text/html": [
              "<html>\n",
              "<head><meta charset=\"utf-8\" /></head>\n",
              "<body>\n",
              "    <div>\n",
              "            <script src=\"https://cdnjs.cloudflare.com/ajax/libs/mathjax/2.7.5/MathJax.js?config=TeX-AMS-MML_SVG\"></script><script type=\"text/javascript\">if (window.MathJax) {MathJax.Hub.Config({SVG: {font: \"STIX-Web\"}});}</script>\n",
              "                <script type=\"text/javascript\">window.PlotlyConfig = {MathJaxConfig: 'local'};</script>\n",
              "        <script src=\"https://cdn.plot.ly/plotly-latest.min.js\"></script>    \n",
              "            <div id=\"f93c44ed-dbd8-4588-b527-0425a551ad41\" class=\"plotly-graph-div\" style=\"height:500px; width:100%;\"></div>\n",
              "            <script type=\"text/javascript\">\n",
              "                \n",
              "                    window.PLOTLYENV=window.PLOTLYENV || {};\n",
              "                    \n",
              "                if (document.getElementById(\"f93c44ed-dbd8-4588-b527-0425a551ad41\")) {\n",
              "                    Plotly.newPlot(\n",
              "                        'f93c44ed-dbd8-4588-b527-0425a551ad41',\n",
              "                        [{\"alignmentgroup\": \"True\", \"customdata\": [[0, 0], [0, 0], [0, 0], [355070000, 11], [654380000, 9], [429170000, 8], [11990000, 1], [2631080000, 47], [8041710000, 120], [135469760000, 1360], [77270000, 2], [238974970000, 2174], [38323340000, 187], [19667180000, 231], [27876250000, 248], [1472140000, 18], [498530030000, 2219], [678847740000, 5348], [128787150000, 132]], \"hoverlabel\": {\"namelength\": 0}, \"hovertemplate\": \"Revenue per Entry=%{marker.color}<br>y=%{y}<br>Total Revenue=%{customdata[0]}<br>Total Transations=%{customdata[1]}\", \"legendgroup\": \"\", \"marker\": {\"color\": [0.0, 0.0, 0.0, 1691.04, 43445.76, 80009.32, 363333.33, 409442.89, 636261.57, 985227.45, 1058493.15, 1126576.17, 1406619.2, 1802179.05, 2404783.47, 3407731.48, 3804498.2, 10984413.52, 26096686.93], \"coloraxis\": \"coloraxis\"}, \"name\": \"\", \"offsetgroup\": \"\", \"orientation\": \"h\", \"showlegend\": false, \"textposition\": \"auto\", \"type\": \"bar\", \"x\": [0.0, 0.0, 0.0, 1691.04, 43445.76, 80009.32, 363333.33, 409442.89, 636261.57, 985227.45, 1058493.15, 1126576.17, 1406619.2, 1802179.05, 2404783.47, 3407731.48, 3804498.2, 10984413.52, 26096686.93], \"xaxis\": \"x\", \"y\": [\"(Other) (direct)\", \"(Other) Other\", \"Paid Search Other\", \"Social youtube\", \"Affiliates Other\", \"Referral google\", \"(Other) google\", \"Organic Search Other\", \"Social Other\", \"Organic Search (direct)\", \"Display (direct)\", \"Organic Search google\", \"Referral Other\", \"Paid Search (direct)\", \"Paid Search google\", \"Display google\", \"Direct (direct)\", \"Referral (direct)\", \"Display Other\"], \"yaxis\": \"y\"}],\n",
              "                        {\"barmode\": \"relative\", \"coloraxis\": {\"colorbar\": {\"title\": {\"text\": \"Revenue per Entry\"}}, \"colorscale\": [[0.0, \"#0d0887\"], [0.1111111111111111, \"#46039f\"], [0.2222222222222222, \"#7201a8\"], [0.3333333333333333, \"#9c179e\"], [0.4444444444444444, \"#bd3786\"], [0.5555555555555556, \"#d8576b\"], [0.6666666666666666, \"#ed7953\"], [0.7777777777777778, \"#fb9f3a\"], [0.8888888888888888, \"#fdca26\"], [1.0, \"#f0f921\"]]}, \"height\": 500, \"legend\": {\"tracegroupgap\": 0}, \"margin\": {\"t\": 60}, \"template\": {\"data\": {\"bar\": [{\"error_x\": {\"color\": \"#2a3f5f\"}, \"error_y\": {\"color\": \"#2a3f5f\"}, \"marker\": {\"line\": {\"color\": \"#E5ECF6\", \"width\": 0.5}}, \"type\": \"bar\"}], \"barpolar\": [{\"marker\": {\"line\": {\"color\": \"#E5ECF6\", \"width\": 0.5}}, \"type\": \"barpolar\"}], \"carpet\": [{\"aaxis\": {\"endlinecolor\": \"#2a3f5f\", \"gridcolor\": \"white\", \"linecolor\": \"white\", \"minorgridcolor\": \"white\", \"startlinecolor\": \"#2a3f5f\"}, \"baxis\": {\"endlinecolor\": \"#2a3f5f\", \"gridcolor\": \"white\", \"linecolor\": \"white\", \"minorgridcolor\": \"white\", \"startlinecolor\": \"#2a3f5f\"}, \"type\": \"carpet\"}], \"choropleth\": [{\"colorbar\": {\"outlinewidth\": 0, \"ticks\": \"\"}, \"type\": \"choropleth\"}], \"contour\": [{\"colorbar\": {\"outlinewidth\": 0, \"ticks\": \"\"}, \"colorscale\": [[0.0, \"#0d0887\"], [0.1111111111111111, \"#46039f\"], [0.2222222222222222, \"#7201a8\"], [0.3333333333333333, \"#9c179e\"], [0.4444444444444444, \"#bd3786\"], [0.5555555555555556, \"#d8576b\"], [0.6666666666666666, \"#ed7953\"], [0.7777777777777778, \"#fb9f3a\"], [0.8888888888888888, \"#fdca26\"], [1.0, \"#f0f921\"]], \"type\": \"contour\"}], \"contourcarpet\": [{\"colorbar\": {\"outlinewidth\": 0, \"ticks\": \"\"}, \"type\": \"contourcarpet\"}], \"heatmap\": [{\"colorbar\": {\"outlinewidth\": 0, \"ticks\": \"\"}, \"colorscale\": [[0.0, \"#0d0887\"], [0.1111111111111111, \"#46039f\"], [0.2222222222222222, \"#7201a8\"], [0.3333333333333333, \"#9c179e\"], [0.4444444444444444, \"#bd3786\"], [0.5555555555555556, \"#d8576b\"], [0.6666666666666666, \"#ed7953\"], [0.7777777777777778, \"#fb9f3a\"], [0.8888888888888888, \"#fdca26\"], [1.0, \"#f0f921\"]], \"type\": \"heatmap\"}], \"heatmapgl\": [{\"colorbar\": {\"outlinewidth\": 0, \"ticks\": \"\"}, \"colorscale\": [[0.0, \"#0d0887\"], [0.1111111111111111, \"#46039f\"], [0.2222222222222222, \"#7201a8\"], [0.3333333333333333, \"#9c179e\"], [0.4444444444444444, \"#bd3786\"], [0.5555555555555556, \"#d8576b\"], [0.6666666666666666, \"#ed7953\"], [0.7777777777777778, \"#fb9f3a\"], [0.8888888888888888, \"#fdca26\"], [1.0, \"#f0f921\"]], \"type\": \"heatmapgl\"}], \"histogram\": [{\"marker\": {\"colorbar\": {\"outlinewidth\": 0, \"ticks\": \"\"}}, \"type\": \"histogram\"}], \"histogram2d\": [{\"colorbar\": {\"outlinewidth\": 0, \"ticks\": \"\"}, \"colorscale\": [[0.0, \"#0d0887\"], [0.1111111111111111, \"#46039f\"], [0.2222222222222222, \"#7201a8\"], [0.3333333333333333, \"#9c179e\"], [0.4444444444444444, \"#bd3786\"], [0.5555555555555556, \"#d8576b\"], [0.6666666666666666, \"#ed7953\"], [0.7777777777777778, \"#fb9f3a\"], [0.8888888888888888, \"#fdca26\"], [1.0, \"#f0f921\"]], \"type\": \"histogram2d\"}], \"histogram2dcontour\": [{\"colorbar\": {\"outlinewidth\": 0, \"ticks\": \"\"}, \"colorscale\": [[0.0, \"#0d0887\"], [0.1111111111111111, \"#46039f\"], [0.2222222222222222, \"#7201a8\"], [0.3333333333333333, \"#9c179e\"], [0.4444444444444444, \"#bd3786\"], [0.5555555555555556, \"#d8576b\"], [0.6666666666666666, \"#ed7953\"], [0.7777777777777778, \"#fb9f3a\"], [0.8888888888888888, \"#fdca26\"], [1.0, \"#f0f921\"]], \"type\": \"histogram2dcontour\"}], \"mesh3d\": [{\"colorbar\": {\"outlinewidth\": 0, \"ticks\": \"\"}, \"type\": \"mesh3d\"}], \"parcoords\": [{\"line\": {\"colorbar\": {\"outlinewidth\": 0, \"ticks\": \"\"}}, \"type\": \"parcoords\"}], \"pie\": [{\"automargin\": true, \"type\": \"pie\"}], \"scatter\": [{\"marker\": {\"colorbar\": {\"outlinewidth\": 0, \"ticks\": \"\"}}, \"type\": \"scatter\"}], \"scatter3d\": [{\"line\": {\"colorbar\": {\"outlinewidth\": 0, \"ticks\": \"\"}}, \"marker\": {\"colorbar\": {\"outlinewidth\": 0, \"ticks\": \"\"}}, \"type\": \"scatter3d\"}], \"scattercarpet\": [{\"marker\": {\"colorbar\": {\"outlinewidth\": 0, \"ticks\": \"\"}}, \"type\": \"scattercarpet\"}], \"scattergeo\": [{\"marker\": {\"colorbar\": {\"outlinewidth\": 0, \"ticks\": \"\"}}, \"type\": \"scattergeo\"}], \"scattergl\": [{\"marker\": {\"colorbar\": {\"outlinewidth\": 0, \"ticks\": \"\"}}, \"type\": \"scattergl\"}], \"scattermapbox\": [{\"marker\": {\"colorbar\": {\"outlinewidth\": 0, \"ticks\": \"\"}}, \"type\": \"scattermapbox\"}], \"scatterpolar\": [{\"marker\": {\"colorbar\": {\"outlinewidth\": 0, \"ticks\": \"\"}}, \"type\": \"scatterpolar\"}], \"scatterpolargl\": [{\"marker\": {\"colorbar\": {\"outlinewidth\": 0, \"ticks\": \"\"}}, \"type\": \"scatterpolargl\"}], \"scatterternary\": [{\"marker\": {\"colorbar\": {\"outlinewidth\": 0, \"ticks\": \"\"}}, \"type\": \"scatterternary\"}], \"surface\": [{\"colorbar\": {\"outlinewidth\": 0, \"ticks\": \"\"}, \"colorscale\": [[0.0, \"#0d0887\"], [0.1111111111111111, \"#46039f\"], [0.2222222222222222, \"#7201a8\"], [0.3333333333333333, \"#9c179e\"], [0.4444444444444444, \"#bd3786\"], [0.5555555555555556, \"#d8576b\"], [0.6666666666666666, \"#ed7953\"], [0.7777777777777778, \"#fb9f3a\"], [0.8888888888888888, \"#fdca26\"], [1.0, \"#f0f921\"]], \"type\": \"surface\"}], \"table\": [{\"cells\": {\"fill\": {\"color\": \"#EBF0F8\"}, \"line\": {\"color\": \"white\"}}, \"header\": {\"fill\": {\"color\": \"#C8D4E3\"}, \"line\": {\"color\": \"white\"}}, \"type\": \"table\"}]}, \"layout\": {\"annotationdefaults\": {\"arrowcolor\": \"#2a3f5f\", \"arrowhead\": 0, \"arrowwidth\": 1}, \"coloraxis\": {\"colorbar\": {\"outlinewidth\": 0, \"ticks\": \"\"}}, \"colorscale\": {\"diverging\": [[0, \"#8e0152\"], [0.1, \"#c51b7d\"], [0.2, \"#de77ae\"], [0.3, \"#f1b6da\"], [0.4, \"#fde0ef\"], [0.5, \"#f7f7f7\"], [0.6, \"#e6f5d0\"], [0.7, \"#b8e186\"], [0.8, \"#7fbc41\"], [0.9, \"#4d9221\"], [1, \"#276419\"]], \"sequential\": [[0.0, \"#0d0887\"], [0.1111111111111111, \"#46039f\"], [0.2222222222222222, \"#7201a8\"], [0.3333333333333333, \"#9c179e\"], [0.4444444444444444, \"#bd3786\"], [0.5555555555555556, \"#d8576b\"], [0.6666666666666666, \"#ed7953\"], [0.7777777777777778, \"#fb9f3a\"], [0.8888888888888888, \"#fdca26\"], [1.0, \"#f0f921\"]], \"sequentialminus\": [[0.0, \"#0d0887\"], [0.1111111111111111, \"#46039f\"], [0.2222222222222222, \"#7201a8\"], [0.3333333333333333, \"#9c179e\"], [0.4444444444444444, \"#bd3786\"], [0.5555555555555556, \"#d8576b\"], [0.6666666666666666, \"#ed7953\"], [0.7777777777777778, \"#fb9f3a\"], [0.8888888888888888, \"#fdca26\"], [1.0, \"#f0f921\"]]}, \"colorway\": [\"#636efa\", \"#EF553B\", \"#00cc96\", \"#ab63fa\", \"#FFA15A\", \"#19d3f3\", \"#FF6692\", \"#B6E880\", \"#FF97FF\", \"#FECB52\"], \"font\": {\"color\": \"#2a3f5f\"}, \"geo\": {\"bgcolor\": \"white\", \"lakecolor\": \"white\", \"landcolor\": \"#E5ECF6\", \"showlakes\": true, \"showland\": true, \"subunitcolor\": \"white\"}, \"hoverlabel\": {\"align\": \"left\"}, \"hovermode\": \"closest\", \"mapbox\": {\"style\": \"light\"}, \"paper_bgcolor\": \"white\", \"plot_bgcolor\": \"#E5ECF6\", \"polar\": {\"angularaxis\": {\"gridcolor\": \"white\", \"linecolor\": \"white\", \"ticks\": \"\"}, \"bgcolor\": \"#E5ECF6\", \"radialaxis\": {\"gridcolor\": \"white\", \"linecolor\": \"white\", \"ticks\": \"\"}}, \"scene\": {\"xaxis\": {\"backgroundcolor\": \"#E5ECF6\", \"gridcolor\": \"white\", \"gridwidth\": 2, \"linecolor\": \"white\", \"showbackground\": true, \"ticks\": \"\", \"zerolinecolor\": \"white\"}, \"yaxis\": {\"backgroundcolor\": \"#E5ECF6\", \"gridcolor\": \"white\", \"gridwidth\": 2, \"linecolor\": \"white\", \"showbackground\": true, \"ticks\": \"\", \"zerolinecolor\": \"white\"}, \"zaxis\": {\"backgroundcolor\": \"#E5ECF6\", \"gridcolor\": \"white\", \"gridwidth\": 2, \"linecolor\": \"white\", \"showbackground\": true, \"ticks\": \"\", \"zerolinecolor\": \"white\"}}, \"shapedefaults\": {\"line\": {\"color\": \"#2a3f5f\"}}, \"ternary\": {\"aaxis\": {\"gridcolor\": \"white\", \"linecolor\": \"white\", \"ticks\": \"\"}, \"baxis\": {\"gridcolor\": \"white\", \"linecolor\": \"white\", \"ticks\": \"\"}, \"bgcolor\": \"#E5ECF6\", \"caxis\": {\"gridcolor\": \"white\", \"linecolor\": \"white\", \"ticks\": \"\"}}, \"title\": {\"x\": 0.05}, \"xaxis\": {\"automargin\": true, \"gridcolor\": \"white\", \"linecolor\": \"white\", \"ticks\": \"\", \"title\": {\"standoff\": 15}, \"zerolinecolor\": \"white\", \"zerolinewidth\": 2}, \"yaxis\": {\"automargin\": true, \"gridcolor\": \"white\", \"linecolor\": \"white\", \"ticks\": \"\", \"title\": {\"standoff\": 15}, \"zerolinecolor\": \"white\", \"zerolinewidth\": 2}}}, \"title\": {\"text\": \"Average Revenue Per Channel Channel\"}, \"xaxis\": {\"anchor\": \"y\", \"domain\": [0.0, 1.0], \"title\": {\"text\": \"Revenue per Entry\"}}, \"yaxis\": {\"anchor\": \"x\", \"domain\": [0.0, 1.0], \"title\": {\"text\": \"y\"}}},\n",
              "                        {\"responsive\": true}\n",
              "                    ).then(function(){\n",
              "                            \n",
              "var gd = document.getElementById('f93c44ed-dbd8-4588-b527-0425a551ad41');\n",
              "var x = new MutationObserver(function (mutations, observer) {{\n",
              "        var display = window.getComputedStyle(gd).display;\n",
              "        if (!display || display === 'none') {{\n",
              "            console.log([gd, 'removed!']);\n",
              "            Plotly.purge(gd);\n",
              "            observer.disconnect();\n",
              "        }}\n",
              "}});\n",
              "\n",
              "// Listen for the removal of the full notebook cells\n",
              "var notebookContainer = gd.closest('#notebook-container');\n",
              "if (notebookContainer) {{\n",
              "    x.observe(notebookContainer, {childList: true});\n",
              "}}\n",
              "\n",
              "// Listen for the clearing of the current output cell\n",
              "var outputEl = gd.closest('.output');\n",
              "if (outputEl) {{\n",
              "    x.observe(outputEl, {childList: true});\n",
              "}}\n",
              "\n",
              "                        })\n",
              "                };\n",
              "                \n",
              "            </script>\n",
              "        </div>\n",
              "</body>\n",
              "</html>"
            ]
          },
          "metadata": {
            "tags": []
          }
        }
      ]
    },
    {
      "cell_type": "code",
      "metadata": {
        "id": "AQ6wAjOGiFJn",
        "colab_type": "code",
        "colab": {
          "base_uri": "https://localhost:8080/",
          "height": 517
        },
        "outputId": "97c56711-bfd7-4821-da33-d6d6833ca1ad"
      },
      "source": [
        "# Visualize Total Revenue\n",
        "data = px.data.gapminder()\n",
        "df_channelvalue = df_channelvalue.sort_values(by='total_transaction_revenue',ascending=True)\n",
        "fig = px.bar(df_channelvalue, x=df_channelvalue['total_transaction_revenue'], y= df_channelvalue['channelGrouping'].astype(str)+' '+df_channelvalue['traffic_source_clean'],\n",
        "             hover_data = ['total_transaction_revenue', 'total_transactions'], color='total_transaction_revenue',\n",
        "             labels={'total_transaction_revenue':'Total Revenue','revenue_per_conversion':'Revenue per Entry',\n",
        "                     'total_transactions':'Total Transations'}, height=500,orientation='h')\n",
        "fig.update_layout(title_text='Total Revenue Per Channel Channel')\n",
        "fig.show()"
      ],
      "execution_count": null,
      "outputs": [
        {
          "output_type": "display_data",
          "data": {
            "text/html": [
              "<html>\n",
              "<head><meta charset=\"utf-8\" /></head>\n",
              "<body>\n",
              "    <div>\n",
              "            <script src=\"https://cdnjs.cloudflare.com/ajax/libs/mathjax/2.7.5/MathJax.js?config=TeX-AMS-MML_SVG\"></script><script type=\"text/javascript\">if (window.MathJax) {MathJax.Hub.Config({SVG: {font: \"STIX-Web\"}});}</script>\n",
              "                <script type=\"text/javascript\">window.PlotlyConfig = {MathJaxConfig: 'local'};</script>\n",
              "        <script src=\"https://cdn.plot.ly/plotly-latest.min.js\"></script>    \n",
              "            <div id=\"63e693a9-c75c-4e50-97d3-026277728c6c\" class=\"plotly-graph-div\" style=\"height:500px; width:100%;\"></div>\n",
              "            <script type=\"text/javascript\">\n",
              "                \n",
              "                    window.PLOTLYENV=window.PLOTLYENV || {};\n",
              "                    \n",
              "                if (document.getElementById(\"63e693a9-c75c-4e50-97d3-026277728c6c\")) {\n",
              "                    Plotly.newPlot(\n",
              "                        '63e693a9-c75c-4e50-97d3-026277728c6c',\n",
              "                        [{\"alignmentgroup\": \"True\", \"customdata\": [[0, 0], [0, 0], [0, 0], [11990000, 1], [77270000, 2], [355070000, 11], [429170000, 8], [654380000, 9], [1472140000, 18], [2631080000, 47], [8041710000, 120], [19667180000, 231], [27876250000, 248], [38323340000, 187], [128787150000, 132], [135469760000, 1360], [238974970000, 2174], [498530030000, 2219], [678847740000, 5348]], \"hoverlabel\": {\"namelength\": 0}, \"hovertemplate\": \"Total Revenue=%{marker.color}<br>y=%{y}<br>Total Transations=%{customdata[1]}\", \"legendgroup\": \"\", \"marker\": {\"color\": [0, 0, 0, 11990000, 77270000, 355070000, 429170000, 654380000, 1472140000, 2631080000, 8041710000, 19667180000, 27876250000, 38323340000, 128787150000, 135469760000, 238974970000, 498530030000, 678847740000], \"coloraxis\": \"coloraxis\"}, \"name\": \"\", \"offsetgroup\": \"\", \"orientation\": \"h\", \"showlegend\": false, \"textposition\": \"auto\", \"type\": \"bar\", \"x\": [0, 0, 0, 11990000, 77270000, 355070000, 429170000, 654380000, 1472140000, 2631080000, 8041710000, 19667180000, 27876250000, 38323340000, 128787150000, 135469760000, 238974970000, 498530030000, 678847740000], \"xaxis\": \"x\", \"y\": [\"(Other) (direct)\", \"(Other) Other\", \"Paid Search Other\", \"(Other) google\", \"Display (direct)\", \"Social youtube\", \"Referral google\", \"Affiliates Other\", \"Display google\", \"Organic Search Other\", \"Social Other\", \"Paid Search (direct)\", \"Paid Search google\", \"Referral Other\", \"Display Other\", \"Organic Search (direct)\", \"Organic Search google\", \"Direct (direct)\", \"Referral (direct)\"], \"yaxis\": \"y\"}],\n",
              "                        {\"barmode\": \"relative\", \"coloraxis\": {\"colorbar\": {\"title\": {\"text\": \"Total Revenue\"}}, \"colorscale\": [[0.0, \"#0d0887\"], [0.1111111111111111, \"#46039f\"], [0.2222222222222222, \"#7201a8\"], [0.3333333333333333, \"#9c179e\"], [0.4444444444444444, \"#bd3786\"], [0.5555555555555556, \"#d8576b\"], [0.6666666666666666, \"#ed7953\"], [0.7777777777777778, \"#fb9f3a\"], [0.8888888888888888, \"#fdca26\"], [1.0, \"#f0f921\"]]}, \"height\": 500, \"legend\": {\"tracegroupgap\": 0}, \"margin\": {\"t\": 60}, \"template\": {\"data\": {\"bar\": [{\"error_x\": {\"color\": \"#2a3f5f\"}, \"error_y\": {\"color\": \"#2a3f5f\"}, \"marker\": {\"line\": {\"color\": \"#E5ECF6\", \"width\": 0.5}}, \"type\": \"bar\"}], \"barpolar\": [{\"marker\": {\"line\": {\"color\": \"#E5ECF6\", \"width\": 0.5}}, \"type\": \"barpolar\"}], \"carpet\": [{\"aaxis\": {\"endlinecolor\": \"#2a3f5f\", \"gridcolor\": \"white\", \"linecolor\": \"white\", \"minorgridcolor\": \"white\", \"startlinecolor\": \"#2a3f5f\"}, \"baxis\": {\"endlinecolor\": \"#2a3f5f\", \"gridcolor\": \"white\", \"linecolor\": \"white\", \"minorgridcolor\": \"white\", \"startlinecolor\": \"#2a3f5f\"}, \"type\": \"carpet\"}], \"choropleth\": [{\"colorbar\": {\"outlinewidth\": 0, \"ticks\": \"\"}, \"type\": \"choropleth\"}], \"contour\": [{\"colorbar\": {\"outlinewidth\": 0, \"ticks\": \"\"}, \"colorscale\": [[0.0, \"#0d0887\"], [0.1111111111111111, \"#46039f\"], [0.2222222222222222, \"#7201a8\"], [0.3333333333333333, \"#9c179e\"], [0.4444444444444444, \"#bd3786\"], [0.5555555555555556, \"#d8576b\"], [0.6666666666666666, \"#ed7953\"], [0.7777777777777778, \"#fb9f3a\"], [0.8888888888888888, \"#fdca26\"], [1.0, \"#f0f921\"]], \"type\": \"contour\"}], \"contourcarpet\": [{\"colorbar\": {\"outlinewidth\": 0, \"ticks\": \"\"}, \"type\": \"contourcarpet\"}], \"heatmap\": [{\"colorbar\": {\"outlinewidth\": 0, \"ticks\": \"\"}, \"colorscale\": [[0.0, \"#0d0887\"], [0.1111111111111111, \"#46039f\"], [0.2222222222222222, \"#7201a8\"], [0.3333333333333333, \"#9c179e\"], [0.4444444444444444, \"#bd3786\"], [0.5555555555555556, \"#d8576b\"], [0.6666666666666666, \"#ed7953\"], [0.7777777777777778, \"#fb9f3a\"], [0.8888888888888888, \"#fdca26\"], [1.0, \"#f0f921\"]], \"type\": \"heatmap\"}], \"heatmapgl\": [{\"colorbar\": {\"outlinewidth\": 0, \"ticks\": \"\"}, \"colorscale\": [[0.0, \"#0d0887\"], [0.1111111111111111, \"#46039f\"], [0.2222222222222222, \"#7201a8\"], [0.3333333333333333, \"#9c179e\"], [0.4444444444444444, \"#bd3786\"], [0.5555555555555556, \"#d8576b\"], [0.6666666666666666, \"#ed7953\"], [0.7777777777777778, \"#fb9f3a\"], [0.8888888888888888, \"#fdca26\"], [1.0, \"#f0f921\"]], \"type\": \"heatmapgl\"}], \"histogram\": [{\"marker\": {\"colorbar\": {\"outlinewidth\": 0, \"ticks\": \"\"}}, \"type\": \"histogram\"}], \"histogram2d\": [{\"colorbar\": {\"outlinewidth\": 0, \"ticks\": \"\"}, \"colorscale\": [[0.0, \"#0d0887\"], [0.1111111111111111, \"#46039f\"], [0.2222222222222222, \"#7201a8\"], [0.3333333333333333, \"#9c179e\"], [0.4444444444444444, \"#bd3786\"], [0.5555555555555556, \"#d8576b\"], [0.6666666666666666, \"#ed7953\"], [0.7777777777777778, \"#fb9f3a\"], [0.8888888888888888, \"#fdca26\"], [1.0, \"#f0f921\"]], \"type\": \"histogram2d\"}], \"histogram2dcontour\": [{\"colorbar\": {\"outlinewidth\": 0, \"ticks\": \"\"}, \"colorscale\": [[0.0, \"#0d0887\"], [0.1111111111111111, \"#46039f\"], [0.2222222222222222, \"#7201a8\"], [0.3333333333333333, \"#9c179e\"], [0.4444444444444444, \"#bd3786\"], [0.5555555555555556, \"#d8576b\"], [0.6666666666666666, \"#ed7953\"], [0.7777777777777778, \"#fb9f3a\"], [0.8888888888888888, \"#fdca26\"], [1.0, \"#f0f921\"]], \"type\": \"histogram2dcontour\"}], \"mesh3d\": [{\"colorbar\": {\"outlinewidth\": 0, \"ticks\": \"\"}, \"type\": \"mesh3d\"}], \"parcoords\": [{\"line\": {\"colorbar\": {\"outlinewidth\": 0, \"ticks\": \"\"}}, \"type\": \"parcoords\"}], \"pie\": [{\"automargin\": true, \"type\": \"pie\"}], \"scatter\": [{\"marker\": {\"colorbar\": {\"outlinewidth\": 0, \"ticks\": \"\"}}, \"type\": \"scatter\"}], \"scatter3d\": [{\"line\": {\"colorbar\": {\"outlinewidth\": 0, \"ticks\": \"\"}}, \"marker\": {\"colorbar\": {\"outlinewidth\": 0, \"ticks\": \"\"}}, \"type\": \"scatter3d\"}], \"scattercarpet\": [{\"marker\": {\"colorbar\": {\"outlinewidth\": 0, \"ticks\": \"\"}}, \"type\": \"scattercarpet\"}], \"scattergeo\": [{\"marker\": {\"colorbar\": {\"outlinewidth\": 0, \"ticks\": \"\"}}, \"type\": \"scattergeo\"}], \"scattergl\": [{\"marker\": {\"colorbar\": {\"outlinewidth\": 0, \"ticks\": \"\"}}, \"type\": \"scattergl\"}], \"scattermapbox\": [{\"marker\": {\"colorbar\": {\"outlinewidth\": 0, \"ticks\": \"\"}}, \"type\": \"scattermapbox\"}], \"scatterpolar\": [{\"marker\": {\"colorbar\": {\"outlinewidth\": 0, \"ticks\": \"\"}}, \"type\": \"scatterpolar\"}], \"scatterpolargl\": [{\"marker\": {\"colorbar\": {\"outlinewidth\": 0, \"ticks\": \"\"}}, \"type\": \"scatterpolargl\"}], \"scatterternary\": [{\"marker\": {\"colorbar\": {\"outlinewidth\": 0, \"ticks\": \"\"}}, \"type\": \"scatterternary\"}], \"surface\": [{\"colorbar\": {\"outlinewidth\": 0, \"ticks\": \"\"}, \"colorscale\": [[0.0, \"#0d0887\"], [0.1111111111111111, \"#46039f\"], [0.2222222222222222, \"#7201a8\"], [0.3333333333333333, \"#9c179e\"], [0.4444444444444444, \"#bd3786\"], [0.5555555555555556, \"#d8576b\"], [0.6666666666666666, \"#ed7953\"], [0.7777777777777778, \"#fb9f3a\"], [0.8888888888888888, \"#fdca26\"], [1.0, \"#f0f921\"]], \"type\": \"surface\"}], \"table\": [{\"cells\": {\"fill\": {\"color\": \"#EBF0F8\"}, \"line\": {\"color\": \"white\"}}, \"header\": {\"fill\": {\"color\": \"#C8D4E3\"}, \"line\": {\"color\": \"white\"}}, \"type\": \"table\"}]}, \"layout\": {\"annotationdefaults\": {\"arrowcolor\": \"#2a3f5f\", \"arrowhead\": 0, \"arrowwidth\": 1}, \"coloraxis\": {\"colorbar\": {\"outlinewidth\": 0, \"ticks\": \"\"}}, \"colorscale\": {\"diverging\": [[0, \"#8e0152\"], [0.1, \"#c51b7d\"], [0.2, \"#de77ae\"], [0.3, \"#f1b6da\"], [0.4, \"#fde0ef\"], [0.5, \"#f7f7f7\"], [0.6, \"#e6f5d0\"], [0.7, \"#b8e186\"], [0.8, \"#7fbc41\"], [0.9, \"#4d9221\"], [1, \"#276419\"]], \"sequential\": [[0.0, \"#0d0887\"], [0.1111111111111111, \"#46039f\"], [0.2222222222222222, \"#7201a8\"], [0.3333333333333333, \"#9c179e\"], [0.4444444444444444, \"#bd3786\"], [0.5555555555555556, \"#d8576b\"], [0.6666666666666666, \"#ed7953\"], [0.7777777777777778, \"#fb9f3a\"], [0.8888888888888888, \"#fdca26\"], [1.0, \"#f0f921\"]], \"sequentialminus\": [[0.0, \"#0d0887\"], [0.1111111111111111, \"#46039f\"], [0.2222222222222222, \"#7201a8\"], [0.3333333333333333, \"#9c179e\"], [0.4444444444444444, \"#bd3786\"], [0.5555555555555556, \"#d8576b\"], [0.6666666666666666, \"#ed7953\"], [0.7777777777777778, \"#fb9f3a\"], [0.8888888888888888, \"#fdca26\"], [1.0, \"#f0f921\"]]}, \"colorway\": [\"#636efa\", \"#EF553B\", \"#00cc96\", \"#ab63fa\", \"#FFA15A\", \"#19d3f3\", \"#FF6692\", \"#B6E880\", \"#FF97FF\", \"#FECB52\"], \"font\": {\"color\": \"#2a3f5f\"}, \"geo\": {\"bgcolor\": \"white\", \"lakecolor\": \"white\", \"landcolor\": \"#E5ECF6\", \"showlakes\": true, \"showland\": true, \"subunitcolor\": \"white\"}, \"hoverlabel\": {\"align\": \"left\"}, \"hovermode\": \"closest\", \"mapbox\": {\"style\": \"light\"}, \"paper_bgcolor\": \"white\", \"plot_bgcolor\": \"#E5ECF6\", \"polar\": {\"angularaxis\": {\"gridcolor\": \"white\", \"linecolor\": \"white\", \"ticks\": \"\"}, \"bgcolor\": \"#E5ECF6\", \"radialaxis\": {\"gridcolor\": \"white\", \"linecolor\": \"white\", \"ticks\": \"\"}}, \"scene\": {\"xaxis\": {\"backgroundcolor\": \"#E5ECF6\", \"gridcolor\": \"white\", \"gridwidth\": 2, \"linecolor\": \"white\", \"showbackground\": true, \"ticks\": \"\", \"zerolinecolor\": \"white\"}, \"yaxis\": {\"backgroundcolor\": \"#E5ECF6\", \"gridcolor\": \"white\", \"gridwidth\": 2, \"linecolor\": \"white\", \"showbackground\": true, \"ticks\": \"\", \"zerolinecolor\": \"white\"}, \"zaxis\": {\"backgroundcolor\": \"#E5ECF6\", \"gridcolor\": \"white\", \"gridwidth\": 2, \"linecolor\": \"white\", \"showbackground\": true, \"ticks\": \"\", \"zerolinecolor\": \"white\"}}, \"shapedefaults\": {\"line\": {\"color\": \"#2a3f5f\"}}, \"ternary\": {\"aaxis\": {\"gridcolor\": \"white\", \"linecolor\": \"white\", \"ticks\": \"\"}, \"baxis\": {\"gridcolor\": \"white\", \"linecolor\": \"white\", \"ticks\": \"\"}, \"bgcolor\": \"#E5ECF6\", \"caxis\": {\"gridcolor\": \"white\", \"linecolor\": \"white\", \"ticks\": \"\"}}, \"title\": {\"x\": 0.05}, \"xaxis\": {\"automargin\": true, \"gridcolor\": \"white\", \"linecolor\": \"white\", \"ticks\": \"\", \"title\": {\"standoff\": 15}, \"zerolinecolor\": \"white\", \"zerolinewidth\": 2}, \"yaxis\": {\"automargin\": true, \"gridcolor\": \"white\", \"linecolor\": \"white\", \"ticks\": \"\", \"title\": {\"standoff\": 15}, \"zerolinecolor\": \"white\", \"zerolinewidth\": 2}}}, \"title\": {\"text\": \"Total Revenue Per Channel Channel\"}, \"xaxis\": {\"anchor\": \"y\", \"domain\": [0.0, 1.0], \"title\": {\"text\": \"Total Revenue\"}}, \"yaxis\": {\"anchor\": \"x\", \"domain\": [0.0, 1.0], \"title\": {\"text\": \"y\"}}},\n",
              "                        {\"responsive\": true}\n",
              "                    ).then(function(){\n",
              "                            \n",
              "var gd = document.getElementById('63e693a9-c75c-4e50-97d3-026277728c6c');\n",
              "var x = new MutationObserver(function (mutations, observer) {{\n",
              "        var display = window.getComputedStyle(gd).display;\n",
              "        if (!display || display === 'none') {{\n",
              "            console.log([gd, 'removed!']);\n",
              "            Plotly.purge(gd);\n",
              "            observer.disconnect();\n",
              "        }}\n",
              "}});\n",
              "\n",
              "// Listen for the removal of the full notebook cells\n",
              "var notebookContainer = gd.closest('#notebook-container');\n",
              "if (notebookContainer) {{\n",
              "    x.observe(notebookContainer, {childList: true});\n",
              "}}\n",
              "\n",
              "// Listen for the clearing of the current output cell\n",
              "var outputEl = gd.closest('.output');\n",
              "if (outputEl) {{\n",
              "    x.observe(outputEl, {childList: true});\n",
              "}}\n",
              "\n",
              "                        })\n",
              "                };\n",
              "                \n",
              "            </script>\n",
              "        </div>\n",
              "</body>\n",
              "</html>"
            ]
          },
          "metadata": {
            "tags": []
          }
        }
      ]
    },
    {
      "cell_type": "markdown",
      "metadata": {
        "id": "vfWBr_L-Qmxv",
        "colab_type": "text"
      },
      "source": [
        "# 3. Channel-Path Analysis"
      ]
    },
    {
      "cell_type": "code",
      "metadata": {
        "id": "H5ZeWg0TorRM",
        "colab_type": "code",
        "colab": {}
      },
      "source": [
        "# Add Channel-Traffic Source Combination\n",
        "df_clean['channel_source'] = df_clean['channelGrouping'].astype(str)+'-'+df_clean['traffic_source_clean']\n",
        "df_clean = df_clean.drop(columns=['channelGrouping','traffic_source'])\n",
        "\n",
        "# Binarize 'conversion' base on number of total transactions\n",
        "df_clean['conversion'] =df_clean['total_transactions'].apply(lambda x: 1 if  x > 0 else 0)"
      ],
      "execution_count": null,
      "outputs": []
    },
    {
      "cell_type": "code",
      "metadata": {
        "id": "oIKGrmC1tSIk",
        "colab_type": "code",
        "colab": {}
      },
      "source": [
        "# Create Channel-Path dataframe\n",
        "# Group the table by visitor ID and compress all the channel source into one column, values separated by '>'\n",
        "# Sum up numbers of channel source, conversion and conversion value\n",
        "gb = df_clean.groupby(['fullVisitorId'])\n",
        "df_channelpath = gb.agg({'channel_source':' > '.join})\n",
        "df_channelpath = df_channelpath.join(gb.agg({'channel_source':'size',\n",
        "                             'conversion': 'sum',\n",
        "                             'total_transaction_revenue': 'sum'}).rename(\n",
        "                                 columns={'channel_source':'n_channel_path',\n",
        "                                          'conversion': 'conversion_total',\n",
        "                                          'total_transaction_revenue': 'conversion_value'})).reset_index()"
      ],
      "execution_count": null,
      "outputs": []
    },
    {
      "cell_type": "markdown",
      "metadata": {
        "id": "KvtbwLWoSa9i",
        "colab_type": "text"
      },
      "source": [
        "- ### Longest Channel Path?"
      ]
    },
    {
      "cell_type": "code",
      "metadata": {
        "id": "BFk00gUr2NNv",
        "colab_type": "code",
        "colab": {
          "base_uri": "https://localhost:8080/",
          "height": 410
        },
        "outputId": "2727a594-bb15-4c06-b9a7-01cb79c84906"
      },
      "source": [
        "df_channelpath.sort_values(by='n_channel_path',ascending=False)"
      ],
      "execution_count": null,
      "outputs": [
        {
          "output_type": "execute_result",
          "data": {
            "text/html": [
              "<div>\n",
              "<style scoped>\n",
              "    .dataframe tbody tr th:only-of-type {\n",
              "        vertical-align: middle;\n",
              "    }\n",
              "\n",
              "    .dataframe tbody tr th {\n",
              "        vertical-align: top;\n",
              "    }\n",
              "\n",
              "    .dataframe thead th {\n",
              "        text-align: right;\n",
              "    }\n",
              "</style>\n",
              "<table border=\"1\" class=\"dataframe\">\n",
              "  <thead>\n",
              "    <tr style=\"text-align: right;\">\n",
              "      <th></th>\n",
              "      <th>fullVisitorId</th>\n",
              "      <th>channel_source</th>\n",
              "      <th>n_channel_path</th>\n",
              "      <th>conversion_total</th>\n",
              "      <th>conversion_value</th>\n",
              "    </tr>\n",
              "  </thead>\n",
              "  <tbody>\n",
              "    <tr>\n",
              "      <th>139589</th>\n",
              "      <td>1957458976293878100</td>\n",
              "      <td>Display-Other &gt; Display-Other &gt; Display-Other ...</td>\n",
              "      <td>146</td>\n",
              "      <td>14</td>\n",
              "      <td>1.284125e+11</td>\n",
              "    </tr>\n",
              "    <tr>\n",
              "      <th>257343</th>\n",
              "      <td>3608475193341679870</td>\n",
              "      <td>Paid Search-google &gt; Direct-(direct) &gt; Direct-...</td>\n",
              "      <td>131</td>\n",
              "      <td>1</td>\n",
              "      <td>2.748000e+07</td>\n",
              "    </tr>\n",
              "    <tr>\n",
              "      <th>51304</th>\n",
              "      <td>0720311197761340948</td>\n",
              "      <td>Social-Other &gt; Social-Other &gt; Social-Other &gt; S...</td>\n",
              "      <td>119</td>\n",
              "      <td>0</td>\n",
              "      <td>0.000000e+00</td>\n",
              "    </tr>\n",
              "    <tr>\n",
              "      <th>58716</th>\n",
              "      <td>0824839726118485274</td>\n",
              "      <td>Organic Search-google &gt; Organic Search-(direct...</td>\n",
              "      <td>117</td>\n",
              "      <td>0</td>\n",
              "      <td>0.000000e+00</td>\n",
              "    </tr>\n",
              "    <tr>\n",
              "      <th>287807</th>\n",
              "      <td>4038076683036146727</td>\n",
              "      <td>Paid Search-(direct) &gt; Paid Search-(direct) &gt; ...</td>\n",
              "      <td>110</td>\n",
              "      <td>0</td>\n",
              "      <td>0.000000e+00</td>\n",
              "    </tr>\n",
              "    <tr>\n",
              "      <th>...</th>\n",
              "      <td>...</td>\n",
              "      <td>...</td>\n",
              "      <td>...</td>\n",
              "      <td>...</td>\n",
              "      <td>...</td>\n",
              "    </tr>\n",
              "    <tr>\n",
              "      <th>250855</th>\n",
              "      <td>3518575285827520729</td>\n",
              "      <td>Organic Search-google</td>\n",
              "      <td>1</td>\n",
              "      <td>0</td>\n",
              "      <td>0.000000e+00</td>\n",
              "    </tr>\n",
              "    <tr>\n",
              "      <th>250856</th>\n",
              "      <td>3518578981406393564</td>\n",
              "      <td>Affiliates-Other</td>\n",
              "      <td>1</td>\n",
              "      <td>0</td>\n",
              "      <td>0.000000e+00</td>\n",
              "    </tr>\n",
              "    <tr>\n",
              "      <th>250857</th>\n",
              "      <td>3518582764251994866</td>\n",
              "      <td>Social-youtube</td>\n",
              "      <td>1</td>\n",
              "      <td>0</td>\n",
              "      <td>0.000000e+00</td>\n",
              "    </tr>\n",
              "    <tr>\n",
              "      <th>250858</th>\n",
              "      <td>3518590454951981256</td>\n",
              "      <td>Direct-(direct)</td>\n",
              "      <td>1</td>\n",
              "      <td>0</td>\n",
              "      <td>0.000000e+00</td>\n",
              "    </tr>\n",
              "    <tr>\n",
              "      <th>714166</th>\n",
              "      <td>9999986437109498564</td>\n",
              "      <td>Organic Search-google</td>\n",
              "      <td>1</td>\n",
              "      <td>0</td>\n",
              "      <td>0.000000e+00</td>\n",
              "    </tr>\n",
              "  </tbody>\n",
              "</table>\n",
              "<p>714167 rows × 5 columns</p>\n",
              "</div>"
            ],
            "text/plain": [
              "              fullVisitorId  ... conversion_value\n",
              "139589  1957458976293878100  ...     1.284125e+11\n",
              "257343  3608475193341679870  ...     2.748000e+07\n",
              "51304   0720311197761340948  ...     0.000000e+00\n",
              "58716   0824839726118485274  ...     0.000000e+00\n",
              "287807  4038076683036146727  ...     0.000000e+00\n",
              "...                     ...  ...              ...\n",
              "250855  3518575285827520729  ...     0.000000e+00\n",
              "250856  3518578981406393564  ...     0.000000e+00\n",
              "250857  3518582764251994866  ...     0.000000e+00\n",
              "250858  3518590454951981256  ...     0.000000e+00\n",
              "714166  9999986437109498564  ...     0.000000e+00\n",
              "\n",
              "[714167 rows x 5 columns]"
            ]
          },
          "metadata": {
            "tags": []
          },
          "execution_count": 33
        }
      ]
    },
    {
      "cell_type": "markdown",
      "metadata": {
        "id": "PYvvCxDlShV4",
        "colab_type": "text"
      },
      "source": [
        "- ### Most Path Conversions?"
      ]
    },
    {
      "cell_type": "code",
      "metadata": {
        "id": "8m1wAy1tx4W3",
        "colab_type": "code",
        "colab": {
          "base_uri": "https://localhost:8080/",
          "height": 410
        },
        "outputId": "0b809239-d4c4-4700-aa8a-bdfea64f5e1b"
      },
      "source": [
        "df_channelpath.sort_values(by='conversion_total',ascending=False)"
      ],
      "execution_count": null,
      "outputs": [
        {
          "output_type": "execute_result",
          "data": {
            "text/html": [
              "<div>\n",
              "<style scoped>\n",
              "    .dataframe tbody tr th:only-of-type {\n",
              "        vertical-align: middle;\n",
              "    }\n",
              "\n",
              "    .dataframe tbody tr th {\n",
              "        vertical-align: top;\n",
              "    }\n",
              "\n",
              "    .dataframe thead th {\n",
              "        text-align: right;\n",
              "    }\n",
              "</style>\n",
              "<table border=\"1\" class=\"dataframe\">\n",
              "  <thead>\n",
              "    <tr style=\"text-align: right;\">\n",
              "      <th></th>\n",
              "      <th>fullVisitorId</th>\n",
              "      <th>channel_source</th>\n",
              "      <th>n_channel_path</th>\n",
              "      <th>conversion_total</th>\n",
              "      <th>conversion_value</th>\n",
              "    </tr>\n",
              "  </thead>\n",
              "  <tbody>\n",
              "    <tr>\n",
              "      <th>557953</th>\n",
              "      <td>7813149961404844386</td>\n",
              "      <td>Direct-(direct) &gt; Direct-(direct) &gt; Direct-(di...</td>\n",
              "      <td>50</td>\n",
              "      <td>28</td>\n",
              "      <td>2.786510e+09</td>\n",
              "    </tr>\n",
              "    <tr>\n",
              "      <th>355406</th>\n",
              "      <td>4984366501121503466</td>\n",
              "      <td>Direct-(direct) &gt; Direct-(direct) &gt; Direct-(di...</td>\n",
              "      <td>21</td>\n",
              "      <td>16</td>\n",
              "      <td>9.649400e+09</td>\n",
              "    </tr>\n",
              "    <tr>\n",
              "      <th>171253</th>\n",
              "      <td>2402527199731150932</td>\n",
              "      <td>Direct-(direct) &gt; Direct-(direct) &gt; Direct-(di...</td>\n",
              "      <td>28</td>\n",
              "      <td>15</td>\n",
              "      <td>3.736810e+09</td>\n",
              "    </tr>\n",
              "    <tr>\n",
              "      <th>139589</th>\n",
              "      <td>1957458976293878100</td>\n",
              "      <td>Display-Other &gt; Display-Other &gt; Display-Other ...</td>\n",
              "      <td>146</td>\n",
              "      <td>14</td>\n",
              "      <td>1.284125e+11</td>\n",
              "    </tr>\n",
              "    <tr>\n",
              "      <th>482512</th>\n",
              "      <td>6760732402251466726</td>\n",
              "      <td>Referral-(direct) &gt; Referral-(direct) &gt; Referr...</td>\n",
              "      <td>29</td>\n",
              "      <td>14</td>\n",
              "      <td>6.495480e+09</td>\n",
              "    </tr>\n",
              "    <tr>\n",
              "      <th>...</th>\n",
              "      <td>...</td>\n",
              "      <td>...</td>\n",
              "      <td>...</td>\n",
              "      <td>...</td>\n",
              "      <td>...</td>\n",
              "    </tr>\n",
              "    <tr>\n",
              "      <th>239706</th>\n",
              "      <td>336286767069572297</td>\n",
              "      <td>Social-youtube &gt; Organic Search-(direct)</td>\n",
              "      <td>2</td>\n",
              "      <td>0</td>\n",
              "      <td>0.000000e+00</td>\n",
              "    </tr>\n",
              "    <tr>\n",
              "      <th>239707</th>\n",
              "      <td>3362869754320830266</td>\n",
              "      <td>Social-youtube</td>\n",
              "      <td>1</td>\n",
              "      <td>0</td>\n",
              "      <td>0.000000e+00</td>\n",
              "    </tr>\n",
              "    <tr>\n",
              "      <th>239708</th>\n",
              "      <td>3362887286509658825</td>\n",
              "      <td>Social-youtube</td>\n",
              "      <td>1</td>\n",
              "      <td>0</td>\n",
              "      <td>0.000000e+00</td>\n",
              "    </tr>\n",
              "    <tr>\n",
              "      <th>239709</th>\n",
              "      <td>3362887836351430530</td>\n",
              "      <td>Social-youtube</td>\n",
              "      <td>1</td>\n",
              "      <td>0</td>\n",
              "      <td>0.000000e+00</td>\n",
              "    </tr>\n",
              "    <tr>\n",
              "      <th>714166</th>\n",
              "      <td>9999986437109498564</td>\n",
              "      <td>Organic Search-google</td>\n",
              "      <td>1</td>\n",
              "      <td>0</td>\n",
              "      <td>0.000000e+00</td>\n",
              "    </tr>\n",
              "  </tbody>\n",
              "</table>\n",
              "<p>714167 rows × 5 columns</p>\n",
              "</div>"
            ],
            "text/plain": [
              "              fullVisitorId  ... conversion_value\n",
              "557953  7813149961404844386  ...     2.786510e+09\n",
              "355406  4984366501121503466  ...     9.649400e+09\n",
              "171253  2402527199731150932  ...     3.736810e+09\n",
              "139589  1957458976293878100  ...     1.284125e+11\n",
              "482512  6760732402251466726  ...     6.495480e+09\n",
              "...                     ...  ...              ...\n",
              "239706   336286767069572297  ...     0.000000e+00\n",
              "239707  3362869754320830266  ...     0.000000e+00\n",
              "239708  3362887286509658825  ...     0.000000e+00\n",
              "239709  3362887836351430530  ...     0.000000e+00\n",
              "714166  9999986437109498564  ...     0.000000e+00\n",
              "\n",
              "[714167 rows x 5 columns]"
            ]
          },
          "metadata": {
            "tags": []
          },
          "execution_count": 34
        }
      ]
    },
    {
      "cell_type": "markdown",
      "metadata": {
        "id": "vtkfJ-5ZyKm4",
        "colab_type": "text"
      },
      "source": [
        "## 4.0 Channel Attribution Modeling "
      ]
    },
    {
      "cell_type": "code",
      "metadata": {
        "id": "3cOVJGA3yOdF",
        "colab_type": "code",
        "colab": {}
      },
      "source": [
        "attributions  =  MAM ( df_channelpath ,\n",
        "      group_channels = False ,\n",
        "      channels_colname  =  'channel_source' ,\n",
        "      path_separator = ' > ',\n",
        "      conversion_value = 'conversion_value' )"
      ],
      "execution_count": null,
      "outputs": []
    },
    {
      "cell_type": "code",
      "metadata": {
        "id": "TAvAgMXRyclY",
        "colab_type": "code",
        "colab": {}
      },
      "source": [
        "# Generate Heurisitic Models\n",
        "first_click = attributions.attribution_first_click()\n",
        "last_click = attributions.attribution_last_click()\n",
        "linear = attributions.attribution_linear()\n",
        "\n",
        "# Generate Markov Chain Models\n",
        "markov = attributions.attribution_markov(transition_to_same_state = False)\n",
        "\n",
        "# Extract model value to dataframe\n",
        "df_models = attributions.group_by_channels_models"
      ],
      "execution_count": null,
      "outputs": []
    },
    {
      "cell_type": "code",
      "metadata": {
        "id": "JIMI7snr0U3Z",
        "colab_type": "code",
        "colab": {
          "base_uri": "https://localhost:8080/",
          "height": 703
        },
        "outputId": "57858b5c-858f-462e-8b21-ded152bfdd26"
      },
      "source": [
        "# Markov Chain transition matrix heatmap\n",
        "ax,fig = plt.subplots(figsize = ( 15 , 10 ))\n",
        "sns.heatmap(markov[2].round(3),cmap=\"YlGnBu\", annot=False, linewidths = .5 )"
      ],
      "execution_count": null,
      "outputs": [
        {
          "output_type": "execute_result",
          "data": {
            "text/plain": [
              "<matplotlib.axes._subplots.AxesSubplot at 0x7ff912dfd588>"
            ]
          },
          "metadata": {
            "tags": []
          },
          "execution_count": 38
        },
        {
          "output_type": "display_data",
          "data": {
            "image/png": "[encoded data removed]",
            "text/plain": [
              "<Figure size 1080x720 with 2 Axes>"
            ]
          },
          "metadata": {
            "tags": []
          }
        }
      ]
    },
    {
      "cell_type": "code",
      "metadata": {
        "id": "V79vdomu0939",
        "colab_type": "code",
        "colab": {
          "base_uri": "https://localhost:8080/",
          "height": 333
        },
        "outputId": "7dbe390d-b44a-456f-9654-0b3a022c8695"
      },
      "source": [
        "# Markov Chain Model Removal Effect Plot\n",
        "ax,fig  =  plt.subplots(figsize = ( 2 , 5 ))\n",
        "sns.heatmap(markov[ 3 ].round(3), cmap = \"YlGnBu\" , annot = False , linewidths = .5 )"
      ],
      "execution_count": null,
      "outputs": [
        {
          "output_type": "execute_result",
          "data": {
            "text/plain": [
              "<matplotlib.axes._subplots.AxesSubplot at 0x7ff91e5a3898>"
            ]
          },
          "metadata": {
            "tags": []
          },
          "execution_count": 39
        },
        {
          "output_type": "display_data",
          "data": {
            "image/png": "[encoded data removed]",
            "text/plain": [
              "<Figure size 144x360 with 2 Axes>"
            ]
          },
          "metadata": {
            "tags": []
          }
        }
      ]
    },
    {
      "cell_type": "code",
      "metadata": {
        "id": "kMG4ZDh1EU8L",
        "colab_type": "code",
        "colab": {}
      },
      "source": [
        "# Getting model ready for plot\n",
        "df_models.columns = ['channels','first_click','last_click','linear','markov_chain']\n",
        "df_plot = df_models.melt(id_vars= 'channels',value_name='value',value_vars=['first_click','last_click', 'linear','markov_chain']).sort_values('value',ascending=False)"
      ],
      "execution_count": null,
      "outputs": []
    },
    {
      "cell_type": "code",
      "metadata": {
        "id": "5PLr1KvVMmN1",
        "colab_type": "code",
        "colab": {}
      },
      "source": [
        "# Create a function to generate grouped bar chart\n",
        "def group_bar_plot(dataframe, x, y, group, **kwargs):\n",
        "    items = dataframe[group].unique()\n",
        "    data = []\n",
        "    for item in items:\n",
        "        group_item = dataframe[dataframe[group]==item]\n",
        "        data.append(\n",
        "            go.Bar(\n",
        "                x = group_item[x],\n",
        "                y = group_item[y],\n",
        "                name = str(item)\n",
        "            ) \n",
        "        )\n",
        "    layout = go.Layout(barmode='group',yaxis_title=\"Conversion Value\")\n",
        "    layout.update(kwargs)\n",
        "    fig = go.Figure(data=data, layout=layout)\n",
        "    fig.show()"
      ],
      "execution_count": null,
      "outputs": []
    },
    {
      "cell_type": "code",
      "metadata": {
        "id": "qyqEpUi0NOa2",
        "colab_type": "code",
        "colab": {
          "base_uri": "https://localhost:8080/",
          "height": 542
        },
        "outputId": "13edb8de-b794-4690-ca9c-12167d6ab02a"
      },
      "source": [
        "# Plot models outcomes\n",
        "group_bar_plot(df_plot,'channels','value','variable')\n"
      ],
      "execution_count": null,
      "outputs": [
        {
          "output_type": "display_data",
          "data": {
            "text/html": [
              "<html>\n",
              "<head><meta charset=\"utf-8\" /></head>\n",
              "<body>\n",
              "    <div>\n",
              "            <script src=\"https://cdnjs.cloudflare.com/ajax/libs/mathjax/2.7.5/MathJax.js?config=TeX-AMS-MML_SVG\"></script><script type=\"text/javascript\">if (window.MathJax) {MathJax.Hub.Config({SVG: {font: \"STIX-Web\"}});}</script>\n",
              "                <script type=\"text/javascript\">window.PlotlyConfig = {MathJaxConfig: 'local'};</script>\n",
              "        <script src=\"https://cdn.plot.ly/plotly-latest.min.js\"></script>    \n",
              "            <div id=\"3f276d44-f92c-4bea-9a38-ef6cc2f89e8f\" class=\"plotly-graph-div\" style=\"height:525px; width:100%;\"></div>\n",
              "            <script type=\"text/javascript\">\n",
              "                \n",
              "                    window.PLOTLYENV=window.PLOTLYENV || {};\n",
              "                    \n",
              "                if (document.getElementById(\"3f276d44-f92c-4bea-9a38-ef6cc2f89e8f\")) {\n",
              "                    Plotly.newPlot(\n",
              "                        '3f276d44-f92c-4bea-9a38-ef6cc2f89e8f',\n",
              "                        [{\"name\": \"first_click\", \"type\": \"bar\", \"x\": [\"Referral-(direct)\", \"Direct-(direct)\", \"Organic Search-google\", \"Display-Other\", \"Organic Search-(direct)\", \"Referral-Other\", \"Paid Search-google\", \"Paid Search-(direct)\", \"Social-Other\", \"Organic Search-Other\", \"Display-google\", \"Affiliates-Other\", \"Referral-google\", \"Social-youtube\", \"Display-(direct)\", \"(Other)-google\", \"(Other)-(direct)\", \"(Other)-Other\", \"Paid Search-Other\"], \"y\": [682283670000.0, 475258450000.0, 248746860000.0, 147967980000.0, 128431040000.0, 32951940000.0, 30386590000.0, 20292090000.0, 8231700000.0, 2594100000.0, 1476930000.0, 654380000.0, 429170000.0, 355070000.0, 77270000.0, 11990000.0, 0.0, 0.0, 0.0]}, {\"name\": \"linear\", \"type\": \"bar\", \"x\": [\"Referral-(direct)\", \"Direct-(direct)\", \"Organic Search-google\", \"Organic Search-(direct)\", \"Display-Other\", \"Referral-Other\", \"Paid Search-google\", \"Paid Search-(direct)\", \"Social-Other\", \"Organic Search-Other\", \"Display-google\", \"Affiliates-Other\", \"Social-youtube\", \"Referral-google\", \"(Other)-google\", \"Display-(direct)\", \"(Other)-Other\", \"Paid Search-Other\", \"(Other)-(direct)\"], \"y\": [637703823176.7902, 520791791240.4413, 275519706292.7898, 166874030831.15997, 73321310241.32996, 37610556113.39999, 31427816877.79003, 22894107451.89999, 7478803247.129997, 2614681531.79, 2078981492.06, 739025952.7099999, 487855980.23999995, 466946351.35, 58136969.69, 57225000.0, 24431250.009999998, 0.0, 0.0]}, {\"name\": \"last_click\", \"type\": \"bar\", \"x\": [\"Referral-(direct)\", \"Direct-(direct)\", \"Organic Search-google\", \"Organic Search-(direct)\", \"Paid Search-google\", \"Referral-Other\", \"Paid Search-(direct)\", \"Display-Other\", \"Social-Other\", \"Display-google\", \"Organic Search-Other\", \"Affiliates-Other\", \"Referral-google\", \"Social-youtube\", \"(Other)-google\", \"Display-(direct)\", \"Paid Search-Other\", \"(Other)-Other\", \"(Other)-(direct)\"], \"y\": [603564700000.0, 526115170000.0, 260983520000.0, 252164280000.0, 43980290000.0, 31990400000.0, 24599410000.0, 22827430000.0, 7040580000.0, 2791890000.0, 2271540000.0, 686660000.0, 504150000.0, 445040000.0, 133560000.0, 50610000.0, 0.0, 0.0, 0.0]}, {\"name\": \"markov_chain\", \"type\": \"bar\", \"x\": [\"Referral-(direct)\", \"Direct-(direct)\", \"Organic Search-google\", \"Organic Search-(direct)\", \"Display-Other\", \"Referral-Other\", \"Paid Search-google\", \"Paid Search-(direct)\", \"Social-Other\", \"Organic Search-Other\", \"Display-google\", \"Social-youtube\", \"Affiliates-Other\", \"Referral-google\", \"(Other)-Other\", \"(Other)-google\", \"Display-(direct)\", \"Paid Search-Other\", \"(Other)-(direct)\"], \"y\": [441603217517.5544, 328071433491.16565, 299315861897.0074, 295655339009.5011, 289117863762.44604, 55454132486.55379, 40705408826.10197, 22980729417.241264, 3991740631.3663783, 1188110484.9762259, 1098842235.7391458, 345873074.07157016, 309336150.3291445, 158400131.8978553, 78211565.6571996, 48130742.60350388, 26598575.787581414, 0.0, 0.0]}],\n",
              "                        {\"barmode\": \"group\", \"template\": {\"data\": {\"bar\": [{\"error_x\": {\"color\": \"#2a3f5f\"}, \"error_y\": {\"color\": \"#2a3f5f\"}, \"marker\": {\"line\": {\"color\": \"#E5ECF6\", \"width\": 0.5}}, \"type\": \"bar\"}], \"barpolar\": [{\"marker\": {\"line\": {\"color\": \"#E5ECF6\", \"width\": 0.5}}, \"type\": \"barpolar\"}], \"carpet\": [{\"aaxis\": {\"endlinecolor\": \"#2a3f5f\", \"gridcolor\": \"white\", \"linecolor\": \"white\", \"minorgridcolor\": \"white\", \"startlinecolor\": \"#2a3f5f\"}, \"baxis\": {\"endlinecolor\": \"#2a3f5f\", \"gridcolor\": \"white\", \"linecolor\": \"white\", \"minorgridcolor\": \"white\", \"startlinecolor\": \"#2a3f5f\"}, \"type\": \"carpet\"}], \"choropleth\": [{\"colorbar\": {\"outlinewidth\": 0, \"ticks\": \"\"}, \"type\": \"choropleth\"}], \"contour\": [{\"colorbar\": {\"outlinewidth\": 0, \"ticks\": \"\"}, \"colorscale\": [[0.0, \"#0d0887\"], [0.1111111111111111, \"#46039f\"], [0.2222222222222222, \"#7201a8\"], [0.3333333333333333, \"#9c179e\"], [0.4444444444444444, \"#bd3786\"], [0.5555555555555556, \"#d8576b\"], [0.6666666666666666, \"#ed7953\"], [0.7777777777777778, \"#fb9f3a\"], [0.8888888888888888, \"#fdca26\"], [1.0, \"#f0f921\"]], \"type\": \"contour\"}], \"contourcarpet\": [{\"colorbar\": {\"outlinewidth\": 0, \"ticks\": \"\"}, \"type\": \"contourcarpet\"}], \"heatmap\": [{\"colorbar\": {\"outlinewidth\": 0, \"ticks\": \"\"}, \"colorscale\": [[0.0, \"#0d0887\"], [0.1111111111111111, \"#46039f\"], [0.2222222222222222, \"#7201a8\"], [0.3333333333333333, \"#9c179e\"], [0.4444444444444444, \"#bd3786\"], [0.5555555555555556, \"#d8576b\"], [0.6666666666666666, \"#ed7953\"], [0.7777777777777778, \"#fb9f3a\"], [0.8888888888888888, \"#fdca26\"], [1.0, \"#f0f921\"]], \"type\": \"heatmap\"}], \"heatmapgl\": [{\"colorbar\": {\"outlinewidth\": 0, \"ticks\": \"\"}, \"colorscale\": [[0.0, \"#0d0887\"], [0.1111111111111111, \"#46039f\"], [0.2222222222222222, \"#7201a8\"], [0.3333333333333333, \"#9c179e\"], [0.4444444444444444, \"#bd3786\"], [0.5555555555555556, \"#d8576b\"], [0.6666666666666666, \"#ed7953\"], [0.7777777777777778, \"#fb9f3a\"], [0.8888888888888888, \"#fdca26\"], [1.0, \"#f0f921\"]], \"type\": \"heatmapgl\"}], \"histogram\": [{\"marker\": {\"colorbar\": {\"outlinewidth\": 0, \"ticks\": \"\"}}, \"type\": \"histogram\"}], \"histogram2d\": [{\"colorbar\": {\"outlinewidth\": 0, \"ticks\": \"\"}, \"colorscale\": [[0.0, \"#0d0887\"], [0.1111111111111111, \"#46039f\"], [0.2222222222222222, \"#7201a8\"], [0.3333333333333333, \"#9c179e\"], [0.4444444444444444, \"#bd3786\"], [0.5555555555555556, \"#d8576b\"], [0.6666666666666666, \"#ed7953\"], [0.7777777777777778, \"#fb9f3a\"], [0.8888888888888888, \"#fdca26\"], [1.0, \"#f0f921\"]], \"type\": \"histogram2d\"}], \"histogram2dcontour\": [{\"colorbar\": {\"outlinewidth\": 0, \"ticks\": \"\"}, \"colorscale\": [[0.0, \"#0d0887\"], [0.1111111111111111, \"#46039f\"], [0.2222222222222222, \"#7201a8\"], [0.3333333333333333, \"#9c179e\"], [0.4444444444444444, \"#bd3786\"], [0.5555555555555556, \"#d8576b\"], [0.6666666666666666, \"#ed7953\"], [0.7777777777777778, \"#fb9f3a\"], [0.8888888888888888, \"#fdca26\"], [1.0, \"#f0f921\"]], \"type\": \"histogram2dcontour\"}], \"mesh3d\": [{\"colorbar\": {\"outlinewidth\": 0, \"ticks\": \"\"}, \"type\": \"mesh3d\"}], \"parcoords\": [{\"line\": {\"colorbar\": {\"outlinewidth\": 0, \"ticks\": \"\"}}, \"type\": \"parcoords\"}], \"pie\": [{\"automargin\": true, \"type\": \"pie\"}], \"scatter\": [{\"marker\": {\"colorbar\": {\"outlinewidth\": 0, \"ticks\": \"\"}}, \"type\": \"scatter\"}], \"scatter3d\": [{\"line\": {\"colorbar\": {\"outlinewidth\": 0, \"ticks\": \"\"}}, \"marker\": {\"colorbar\": {\"outlinewidth\": 0, \"ticks\": \"\"}}, \"type\": \"scatter3d\"}], \"scattercarpet\": [{\"marker\": {\"colorbar\": {\"outlinewidth\": 0, \"ticks\": \"\"}}, \"type\": \"scattercarpet\"}], \"scattergeo\": [{\"marker\": {\"colorbar\": {\"outlinewidth\": 0, \"ticks\": \"\"}}, \"type\": \"scattergeo\"}], \"scattergl\": [{\"marker\": {\"colorbar\": {\"outlinewidth\": 0, \"ticks\": \"\"}}, \"type\": \"scattergl\"}], \"scattermapbox\": [{\"marker\": {\"colorbar\": {\"outlinewidth\": 0, \"ticks\": \"\"}}, \"type\": \"scattermapbox\"}], \"scatterpolar\": [{\"marker\": {\"colorbar\": {\"outlinewidth\": 0, \"ticks\": \"\"}}, \"type\": \"scatterpolar\"}], \"scatterpolargl\": [{\"marker\": {\"colorbar\": {\"outlinewidth\": 0, \"ticks\": \"\"}}, \"type\": \"scatterpolargl\"}], \"scatterternary\": [{\"marker\": {\"colorbar\": {\"outlinewidth\": 0, \"ticks\": \"\"}}, \"type\": \"scatterternary\"}], \"surface\": [{\"colorbar\": {\"outlinewidth\": 0, \"ticks\": \"\"}, \"colorscale\": [[0.0, \"#0d0887\"], [0.1111111111111111, \"#46039f\"], [0.2222222222222222, \"#7201a8\"], [0.3333333333333333, \"#9c179e\"], [0.4444444444444444, \"#bd3786\"], [0.5555555555555556, \"#d8576b\"], [0.6666666666666666, \"#ed7953\"], [0.7777777777777778, \"#fb9f3a\"], [0.8888888888888888, \"#fdca26\"], [1.0, \"#f0f921\"]], \"type\": \"surface\"}], \"table\": [{\"cells\": {\"fill\": {\"color\": \"#EBF0F8\"}, \"line\": {\"color\": \"white\"}}, \"header\": {\"fill\": {\"color\": \"#C8D4E3\"}, \"line\": {\"color\": \"white\"}}, \"type\": \"table\"}]}, \"layout\": {\"annotationdefaults\": {\"arrowcolor\": \"#2a3f5f\", \"arrowhead\": 0, \"arrowwidth\": 1}, \"coloraxis\": {\"colorbar\": {\"outlinewidth\": 0, \"ticks\": \"\"}}, \"colorscale\": {\"diverging\": [[0, \"#8e0152\"], [0.1, \"#c51b7d\"], [0.2, \"#de77ae\"], [0.3, \"#f1b6da\"], [0.4, \"#fde0ef\"], [0.5, \"#f7f7f7\"], [0.6, \"#e6f5d0\"], [0.7, \"#b8e186\"], [0.8, \"#7fbc41\"], [0.9, \"#4d9221\"], [1, \"#276419\"]], \"sequential\": [[0.0, \"#0d0887\"], [0.1111111111111111, \"#46039f\"], [0.2222222222222222, \"#7201a8\"], [0.3333333333333333, \"#9c179e\"], [0.4444444444444444, \"#bd3786\"], [0.5555555555555556, \"#d8576b\"], [0.6666666666666666, \"#ed7953\"], [0.7777777777777778, \"#fb9f3a\"], [0.8888888888888888, \"#fdca26\"], [1.0, \"#f0f921\"]], \"sequentialminus\": [[0.0, \"#0d0887\"], [0.1111111111111111, \"#46039f\"], [0.2222222222222222, \"#7201a8\"], [0.3333333333333333, \"#9c179e\"], [0.4444444444444444, \"#bd3786\"], [0.5555555555555556, \"#d8576b\"], [0.6666666666666666, \"#ed7953\"], [0.7777777777777778, \"#fb9f3a\"], [0.8888888888888888, \"#fdca26\"], [1.0, \"#f0f921\"]]}, \"colorway\": [\"#636efa\", \"#EF553B\", \"#00cc96\", \"#ab63fa\", \"#FFA15A\", \"#19d3f3\", \"#FF6692\", \"#B6E880\", \"#FF97FF\", \"#FECB52\"], \"font\": {\"color\": \"#2a3f5f\"}, \"geo\": {\"bgcolor\": \"white\", \"lakecolor\": \"white\", \"landcolor\": \"#E5ECF6\", \"showlakes\": true, \"showland\": true, \"subunitcolor\": \"white\"}, \"hoverlabel\": {\"align\": \"left\"}, \"hovermode\": \"closest\", \"mapbox\": {\"style\": \"light\"}, \"paper_bgcolor\": \"white\", \"plot_bgcolor\": \"#E5ECF6\", \"polar\": {\"angularaxis\": {\"gridcolor\": \"white\", \"linecolor\": \"white\", \"ticks\": \"\"}, \"bgcolor\": \"#E5ECF6\", \"radialaxis\": {\"gridcolor\": \"white\", \"linecolor\": \"white\", \"ticks\": \"\"}}, \"scene\": {\"xaxis\": {\"backgroundcolor\": \"#E5ECF6\", \"gridcolor\": \"white\", \"gridwidth\": 2, \"linecolor\": \"white\", \"showbackground\": true, \"ticks\": \"\", \"zerolinecolor\": \"white\"}, \"yaxis\": {\"backgroundcolor\": \"#E5ECF6\", \"gridcolor\": \"white\", \"gridwidth\": 2, \"linecolor\": \"white\", \"showbackground\": true, \"ticks\": \"\", \"zerolinecolor\": \"white\"}, \"zaxis\": {\"backgroundcolor\": \"#E5ECF6\", \"gridcolor\": \"white\", \"gridwidth\": 2, \"linecolor\": \"white\", \"showbackground\": true, \"ticks\": \"\", \"zerolinecolor\": \"white\"}}, \"shapedefaults\": {\"line\": {\"color\": \"#2a3f5f\"}}, \"ternary\": {\"aaxis\": {\"gridcolor\": \"white\", \"linecolor\": \"white\", \"ticks\": \"\"}, \"baxis\": {\"gridcolor\": \"white\", \"linecolor\": \"white\", \"ticks\": \"\"}, \"bgcolor\": \"#E5ECF6\", \"caxis\": {\"gridcolor\": \"white\", \"linecolor\": \"white\", \"ticks\": \"\"}}, \"title\": {\"x\": 0.05}, \"xaxis\": {\"automargin\": true, \"gridcolor\": \"white\", \"linecolor\": \"white\", \"ticks\": \"\", \"title\": {\"standoff\": 15}, \"zerolinecolor\": \"white\", \"zerolinewidth\": 2}, \"yaxis\": {\"automargin\": true, \"gridcolor\": \"white\", \"linecolor\": \"white\", \"ticks\": \"\", \"title\": {\"standoff\": 15}, \"zerolinecolor\": \"white\", \"zerolinewidth\": 2}}}, \"yaxis\": {\"title\": {\"text\": \"Conversion Value\"}}},\n",
              "                        {\"responsive\": true}\n",
              "                    ).then(function(){\n",
              "                            \n",
              "var gd = document.getElementById('3f276d44-f92c-4bea-9a38-ef6cc2f89e8f');\n",
              "var x = new MutationObserver(function (mutations, observer) {{\n",
              "        var display = window.getComputedStyle(gd).display;\n",
              "        if (!display || display === 'none') {{\n",
              "            console.log([gd, 'removed!']);\n",
              "            Plotly.purge(gd);\n",
              "            observer.disconnect();\n",
              "        }}\n",
              "}});\n",
              "\n",
              "// Listen for the removal of the full notebook cells\n",
              "var notebookContainer = gd.closest('#notebook-container');\n",
              "if (notebookContainer) {{\n",
              "    x.observe(notebookContainer, {childList: true});\n",
              "}}\n",
              "\n",
              "// Listen for the clearing of the current output cell\n",
              "var outputEl = gd.closest('.output');\n",
              "if (outputEl) {{\n",
              "    x.observe(outputEl, {childList: true});\n",
              "}}\n",
              "\n",
              "                        })\n",
              "                };\n",
              "                \n",
              "            </script>\n",
              "        </div>\n",
              "</body>\n",
              "</html>"
            ]
          },
          "metadata": {
            "tags": []
          }
        }
      ]
    },
    {
      "cell_type": "markdown",
      "metadata": {
        "id": "dMuRfeVFQOie",
        "colab_type": "text"
      },
      "source": [
        "# 5. Customer Journey Analysis\n",
        "## 5.1 Initial findings"
      ]
    },
    {
      "cell_type": "code",
      "metadata": {
        "id": "Cs1U4MVTRvz_",
        "colab_type": "code",
        "colab": {
          "base_uri": "https://localhost:8080/",
          "height": 232
        },
        "outputId": "8267078d-82b7-4e8c-b595-53618e30c57a"
      },
      "source": [
        "lst = ['total_transactions','total_transaction_revenue']\n",
        "idx= 0\n",
        "fig, ax =plt.subplots(1,2)\n",
        "for col in lst: \n",
        "  sns.distplot(df[col], hist=False, kde=True,ax=ax[idx])\n",
        "  idx=idx+1\n",
        "  fig.set_size_inches(8, 3)\n",
        "  plt.ylabel('Density')\n",
        "  fig.show()"
      ],
      "execution_count": null,
      "outputs": [
        {
          "output_type": "display_data",
          "data": {
            "image/png": "[encoded data removed]",
            "text/plain": [
              "<Figure size 576x216 with 2 Axes>"
            ]
          },
          "metadata": {
            "tags": []
          }
        }
      ]
    },
    {
      "cell_type": "code",
      "metadata": {
        "id": "AtzjbPIVkJjO",
        "colab_type": "code",
        "colab": {}
      },
      "source": [
        "def view_user_detail(data,id):\n",
        "  if id in data.fullVisitorId.values:\n",
        "    # pd.set_option('display.max_rows', None)\n",
        "    return data[data['fullVisitorId']==id].sort_values(by='date',ascending=True)\n",
        "  else:\n",
        "    return -1"
      ],
      "execution_count": null,
      "outputs": []
    },
    {
      "cell_type": "code",
      "metadata": {
        "id": "_B_rlLH9kqx5",
        "colab_type": "code",
        "colab": {}
      },
      "source": [
        "df_view = view_user_detail(df,'2402527199731150932')\n",
        "df_view.to_csv('df_view.csv')"
      ],
      "execution_count": null,
      "outputs": []
    },
    {
      "cell_type": "code",
      "metadata": {
        "id": "xCGrdWMLpbzA",
        "colab_type": "code",
        "colab": {}
      },
      "source": [
        "# Create a table for futher analysis\n",
        "df_clv = df[['fullVisitorId', 'date', 'channelGrouping','total_transactions']]\n",
        "df_clv = df_clv.groupby(['fullVisitorId','date','channelGrouping'])['total_transactions'].sum().astype('int64').reset_index()\n",
        "\n",
        "# Flag the conversion\n",
        "df_clv['flag'] = df_clv['total_transactions'].apply(lambda x: 1 if  x > 0 else 0)\n",
        "# Cummulate the conversion number as path of customer journey\n",
        "df_clv['paths'] = df_clv.groupby(['fullVisitorId'])['flag'].apply(lambda x: x.cumsum()).to_frame(name='paths').reset_index()['paths']\n",
        "df_clv['path_id'] = df_clv['paths'].shift(1)\n",
        "df_clv['path_id'] = df_clv['path_id'].fillna(0).astype('int64')\n",
        "df_clv['path_id'] = df_clv['path_id']+1\n",
        "df_clv['visitor_path_id'] = df_clv['fullVisitorId'].astype(str)+'_'+df_clv['path_id'].astype(str)\n",
        "# Assign the last occurance of flag value to indicate there's a transaction happened in that path\n",
        "df_clv['transaction_flag'] = df_clv.visitor_path_id.map(df_clv.groupby('visitor_path_id').flag.nth(-1))\n"
      ],
      "execution_count": null,
      "outputs": []
    },
    {
      "cell_type": "code",
      "metadata": {
        "id": "eFwmhtRExZ-O",
        "colab_type": "code",
        "colab": {}
      },
      "source": [
        "# Create a table for visualizing the customer journey\n",
        "df_cj = df_clv[['visitor_path_id','transaction_flag', 'path_id', 'channelGrouping']]\n",
        "df_cj = df_cj[df_cj['transaction_flag']==1]\n",
        "df_cj = df_cj.groupby(['channelGrouping', 'path_id']).size().to_frame(name='count').reset_index()\n",
        "df_cj['prob'] = df_cj.groupby('path_id')['count'].apply(lambda x: x/x.sum())\n",
        "df_cj = df_cj[df_cj['path_id']<=12]\n",
        "df_cj = df_cj.drop(columns=['count'],axis=1)"
      ],
      "execution_count": null,
      "outputs": []
    },
    {
      "cell_type": "markdown",
      "metadata": {
        "id": "E3RoqCczU5-e",
        "colab_type": "text"
      },
      "source": [
        "- ### Animation Plot for Customer Journey"
      ]
    },
    {
      "cell_type": "code",
      "metadata": {
        "id": "kBBITkqMXvJ9",
        "colab_type": "code",
        "colab": {
          "base_uri": "https://localhost:8080/",
          "height": 542
        },
        "outputId": "5060618f-d18b-403d-8c3e-e30004126075"
      },
      "source": [
        "\n",
        "fig=px.scatter(df_cj, x=\"prob\", y=\"channelGrouping\", animation_frame=\"path_id\",\n",
        "            hover_name=\"prob\",range_x=[0,0.7])\n",
        "fig.layout.xaxis.tickformat = ',.0%'\n",
        "fig.update_traces(marker=dict(size=12))\n",
        "fig.show()"
      ],
      "execution_count": null,
      "outputs": [
        {
          "output_type": "display_data",
          "data": {
            "text/html": [
              "<html>\n",
              "<head><meta charset=\"utf-8\" /></head>\n",
              "<body>\n",
              "    <div>\n",
              "            <script src=\"https://cdnjs.cloudflare.com/ajax/libs/mathjax/2.7.5/MathJax.js?config=TeX-AMS-MML_SVG\"></script><script type=\"text/javascript\">if (window.MathJax) {MathJax.Hub.Config({SVG: {font: \"STIX-Web\"}});}</script>\n",
              "                <script type=\"text/javascript\">window.PlotlyConfig = {MathJaxConfig: 'local'};</script>\n",
              "        <script src=\"https://cdn.plot.ly/plotly-latest.min.js\"></script>    \n",
              "            <div id=\"794a1941-99d8-4db8-8f13-82d2d8be286a\" class=\"plotly-graph-div\" style=\"height:525px; width:100%;\"></div>\n",
              "            <script type=\"text/javascript\">\n",
              "                \n",
              "                    window.PLOTLYENV=window.PLOTLYENV || {};\n",
              "                    \n",
              "                if (document.getElementById(\"794a1941-99d8-4db8-8f13-82d2d8be286a\")) {\n",
              "                    Plotly.newPlot(\n",
              "                        '794a1941-99d8-4db8-8f13-82d2d8be286a',\n",
              "                        [{\"hoverlabel\": {\"namelength\": 0}, \"hovertemplate\": \"<b>%{hovertext}</b><br><br>path_id=1<br>prob=%{x}<br>channelGrouping=%{y}\", \"hovertext\": [5.428586938819825e-05, 0.0010314315183757668, 0.17925194071983064, 0.01921719776342218, 0.29357798165137616, 0.037511535747244994, 0.46056131588947397, 0.008794310840888117], \"legendgroup\": \"\", \"marker\": {\"color\": \"#636efa\", \"size\": 12, \"symbol\": \"circle\"}, \"mode\": \"markers\", \"name\": \"\", \"showlegend\": false, \"type\": \"scatter\", \"x\": [5.428586938819825e-05, 0.0010314315183757668, 0.17925194071983064, 0.01921719776342218, 0.29357798165137616, 0.037511535747244994, 0.46056131588947397, 0.008794310840888117], \"xaxis\": \"x\", \"y\": [\"(Other)\", \"Affiliates\", \"Direct\", \"Display\", \"Organic Search\", \"Paid Search\", \"Referral\", \"Social\"], \"yaxis\": \"y\"}],\n",
              "                        {\"legend\": {\"tracegroupgap\": 0}, \"margin\": {\"t\": 60}, \"sliders\": [{\"active\": 0, \"currentvalue\": {\"prefix\": \"path_id=\"}, \"len\": 0.9, \"pad\": {\"b\": 10, \"t\": 60}, \"steps\": [{\"args\": [[\"1\"], {\"frame\": {\"duration\": 0, \"redraw\": false}, \"fromcurrent\": true, \"mode\": \"immediate\", \"transition\": {\"duration\": 0, \"easing\": \"linear\"}}], \"label\": \"1\", \"method\": \"animate\"}, {\"args\": [[\"2\"], {\"frame\": {\"duration\": 0, \"redraw\": false}, \"fromcurrent\": true, \"mode\": \"immediate\", \"transition\": {\"duration\": 0, \"easing\": \"linear\"}}], \"label\": \"2\", \"method\": \"animate\"}, {\"args\": [[\"3\"], {\"frame\": {\"duration\": 0, \"redraw\": false}, \"fromcurrent\": true, \"mode\": \"immediate\", \"transition\": {\"duration\": 0, \"easing\": \"linear\"}}], \"label\": \"3\", \"method\": \"animate\"}, {\"args\": [[\"4\"], {\"frame\": {\"duration\": 0, \"redraw\": false}, \"fromcurrent\": true, \"mode\": \"immediate\", \"transition\": {\"duration\": 0, \"easing\": \"linear\"}}], \"label\": \"4\", \"method\": \"animate\"}, {\"args\": [[\"5\"], {\"frame\": {\"duration\": 0, \"redraw\": false}, \"fromcurrent\": true, \"mode\": \"immediate\", \"transition\": {\"duration\": 0, \"easing\": \"linear\"}}], \"label\": \"5\", \"method\": \"animate\"}, {\"args\": [[\"6\"], {\"frame\": {\"duration\": 0, \"redraw\": false}, \"fromcurrent\": true, \"mode\": \"immediate\", \"transition\": {\"duration\": 0, \"easing\": \"linear\"}}], \"label\": \"6\", \"method\": \"animate\"}, {\"args\": [[\"7\"], {\"frame\": {\"duration\": 0, \"redraw\": false}, \"fromcurrent\": true, \"mode\": \"immediate\", \"transition\": {\"duration\": 0, \"easing\": \"linear\"}}], \"label\": \"7\", \"method\": \"animate\"}, {\"args\": [[\"8\"], {\"frame\": {\"duration\": 0, \"redraw\": false}, \"fromcurrent\": true, \"mode\": \"immediate\", \"transition\": {\"duration\": 0, \"easing\": \"linear\"}}], \"label\": \"8\", \"method\": \"animate\"}, {\"args\": [[\"9\"], {\"frame\": {\"duration\": 0, \"redraw\": false}, \"fromcurrent\": true, \"mode\": \"immediate\", \"transition\": {\"duration\": 0, \"easing\": \"linear\"}}], \"label\": \"9\", \"method\": \"animate\"}, {\"args\": [[\"10\"], {\"frame\": {\"duration\": 0, \"redraw\": false}, \"fromcurrent\": true, \"mode\": \"immediate\", \"transition\": {\"duration\": 0, \"easing\": \"linear\"}}], \"label\": \"10\", \"method\": \"animate\"}, {\"args\": [[\"11\"], {\"frame\": {\"duration\": 0, \"redraw\": false}, \"fromcurrent\": true, \"mode\": \"immediate\", \"transition\": {\"duration\": 0, \"easing\": \"linear\"}}], \"label\": \"11\", \"method\": \"animate\"}, {\"args\": [[\"12\"], {\"frame\": {\"duration\": 0, \"redraw\": false}, \"fromcurrent\": true, \"mode\": \"immediate\", \"transition\": {\"duration\": 0, \"easing\": \"linear\"}}], \"label\": \"12\", \"method\": \"animate\"}], \"x\": 0.1, \"xanchor\": \"left\", \"y\": 0, \"yanchor\": \"top\"}], \"template\": {\"data\": {\"bar\": [{\"error_x\": {\"color\": \"#2a3f5f\"}, \"error_y\": {\"color\": \"#2a3f5f\"}, \"marker\": {\"line\": {\"color\": \"#E5ECF6\", \"width\": 0.5}}, \"type\": \"bar\"}], \"barpolar\": [{\"marker\": {\"line\": {\"color\": \"#E5ECF6\", \"width\": 0.5}}, \"type\": \"barpolar\"}], \"carpet\": [{\"aaxis\": {\"endlinecolor\": \"#2a3f5f\", \"gridcolor\": \"white\", \"linecolor\": \"white\", \"minorgridcolor\": \"white\", \"startlinecolor\": \"#2a3f5f\"}, \"baxis\": {\"endlinecolor\": \"#2a3f5f\", \"gridcolor\": \"white\", \"linecolor\": \"white\", \"minorgridcolor\": \"white\", \"startlinecolor\": \"#2a3f5f\"}, \"type\": \"carpet\"}], \"choropleth\": [{\"colorbar\": {\"outlinewidth\": 0, \"ticks\": \"\"}, \"type\": \"choropleth\"}], \"contour\": [{\"colorbar\": {\"outlinewidth\": 0, \"ticks\": \"\"}, \"colorscale\": [[0.0, \"#0d0887\"], [0.1111111111111111, \"#46039f\"], [0.2222222222222222, \"#7201a8\"], [0.3333333333333333, \"#9c179e\"], [0.4444444444444444, \"#bd3786\"], [0.5555555555555556, \"#d8576b\"], [0.6666666666666666, \"#ed7953\"], [0.7777777777777778, \"#fb9f3a\"], [0.8888888888888888, \"#fdca26\"], [1.0, \"#f0f921\"]], \"type\": \"contour\"}], \"contourcarpet\": [{\"colorbar\": {\"outlinewidth\": 0, \"ticks\": \"\"}, \"type\": \"contourcarpet\"}], \"heatmap\": [{\"colorbar\": {\"outlinewidth\": 0, \"ticks\": \"\"}, \"colorscale\": [[0.0, \"#0d0887\"], [0.1111111111111111, \"#46039f\"], [0.2222222222222222, \"#7201a8\"], [0.3333333333333333, \"#9c179e\"], [0.4444444444444444, \"#bd3786\"], [0.5555555555555556, \"#d8576b\"], [0.6666666666666666, \"#ed7953\"], [0.7777777777777778, \"#fb9f3a\"], [0.8888888888888888, \"#fdca26\"], [1.0, \"#f0f921\"]], \"type\": \"heatmap\"}], \"heatmapgl\": [{\"colorbar\": {\"outlinewidth\": 0, \"ticks\": \"\"}, \"colorscale\": [[0.0, \"#0d0887\"], [0.1111111111111111, \"#46039f\"], [0.2222222222222222, \"#7201a8\"], [0.3333333333333333, \"#9c179e\"], [0.4444444444444444, \"#bd3786\"], [0.5555555555555556, \"#d8576b\"], [0.6666666666666666, \"#ed7953\"], [0.7777777777777778, \"#fb9f3a\"], [0.8888888888888888, \"#fdca26\"], [1.0, \"#f0f921\"]], \"type\": \"heatmapgl\"}], \"histogram\": [{\"marker\": {\"colorbar\": {\"outlinewidth\": 0, \"ticks\": \"\"}}, \"type\": \"histogram\"}], \"histogram2d\": [{\"colorbar\": {\"outlinewidth\": 0, \"ticks\": \"\"}, \"colorscale\": [[0.0, \"#0d0887\"], [0.1111111111111111, \"#46039f\"], [0.2222222222222222, \"#7201a8\"], [0.3333333333333333, \"#9c179e\"], [0.4444444444444444, \"#bd3786\"], [0.5555555555555556, \"#d8576b\"], [0.6666666666666666, \"#ed7953\"], [0.7777777777777778, \"#fb9f3a\"], [0.8888888888888888, \"#fdca26\"], [1.0, \"#f0f921\"]], \"type\": \"histogram2d\"}], \"histogram2dcontour\": [{\"colorbar\": {\"outlinewidth\": 0, \"ticks\": \"\"}, \"colorscale\": [[0.0, \"#0d0887\"], [0.1111111111111111, \"#46039f\"], [0.2222222222222222, \"#7201a8\"], [0.3333333333333333, \"#9c179e\"], [0.4444444444444444, \"#bd3786\"], [0.5555555555555556, \"#d8576b\"], [0.6666666666666666, \"#ed7953\"], [0.7777777777777778, \"#fb9f3a\"], [0.8888888888888888, \"#fdca26\"], [1.0, \"#f0f921\"]], \"type\": \"histogram2dcontour\"}], \"mesh3d\": [{\"colorbar\": {\"outlinewidth\": 0, \"ticks\": \"\"}, \"type\": \"mesh3d\"}], \"parcoords\": [{\"line\": {\"colorbar\": {\"outlinewidth\": 0, \"ticks\": \"\"}}, \"type\": \"parcoords\"}], \"pie\": [{\"automargin\": true, \"type\": \"pie\"}], \"scatter\": [{\"marker\": {\"colorbar\": {\"outlinewidth\": 0, \"ticks\": \"\"}}, \"type\": \"scatter\"}], \"scatter3d\": [{\"line\": {\"colorbar\": {\"outlinewidth\": 0, \"ticks\": \"\"}}, \"marker\": {\"colorbar\": {\"outlinewidth\": 0, \"ticks\": \"\"}}, \"type\": \"scatter3d\"}], \"scattercarpet\": [{\"marker\": {\"colorbar\": {\"outlinewidth\": 0, \"ticks\": \"\"}}, \"type\": \"scattercarpet\"}], \"scattergeo\": [{\"marker\": {\"colorbar\": {\"outlinewidth\": 0, \"ticks\": \"\"}}, \"type\": \"scattergeo\"}], \"scattergl\": [{\"marker\": {\"colorbar\": {\"outlinewidth\": 0, \"ticks\": \"\"}}, \"type\": \"scattergl\"}], \"scattermapbox\": [{\"marker\": {\"colorbar\": {\"outlinewidth\": 0, \"ticks\": \"\"}}, \"type\": \"scattermapbox\"}], \"scatterpolar\": [{\"marker\": {\"colorbar\": {\"outlinewidth\": 0, \"ticks\": \"\"}}, \"type\": \"scatterpolar\"}], \"scatterpolargl\": [{\"marker\": {\"colorbar\": {\"outlinewidth\": 0, \"ticks\": \"\"}}, \"type\": \"scatterpolargl\"}], \"scatterternary\": [{\"marker\": {\"colorbar\": {\"outlinewidth\": 0, \"ticks\": \"\"}}, \"type\": \"scatterternary\"}], \"surface\": [{\"colorbar\": {\"outlinewidth\": 0, \"ticks\": \"\"}, \"colorscale\": [[0.0, \"#0d0887\"], [0.1111111111111111, \"#46039f\"], [0.2222222222222222, \"#7201a8\"], [0.3333333333333333, \"#9c179e\"], [0.4444444444444444, \"#bd3786\"], [0.5555555555555556, \"#d8576b\"], [0.6666666666666666, \"#ed7953\"], [0.7777777777777778, \"#fb9f3a\"], [0.8888888888888888, \"#fdca26\"], [1.0, \"#f0f921\"]], \"type\": \"surface\"}], \"table\": [{\"cells\": {\"fill\": {\"color\": \"#EBF0F8\"}, \"line\": {\"color\": \"white\"}}, \"header\": {\"fill\": {\"color\": \"#C8D4E3\"}, \"line\": {\"color\": \"white\"}}, \"type\": \"table\"}]}, \"layout\": {\"annotationdefaults\": {\"arrowcolor\": \"#2a3f5f\", \"arrowhead\": 0, \"arrowwidth\": 1}, \"coloraxis\": {\"colorbar\": {\"outlinewidth\": 0, \"ticks\": \"\"}}, \"colorscale\": {\"diverging\": [[0, \"#8e0152\"], [0.1, \"#c51b7d\"], [0.2, \"#de77ae\"], [0.3, \"#f1b6da\"], [0.4, \"#fde0ef\"], [0.5, \"#f7f7f7\"], [0.6, \"#e6f5d0\"], [0.7, \"#b8e186\"], [0.8, \"#7fbc41\"], [0.9, \"#4d9221\"], [1, \"#276419\"]], \"sequential\": [[0.0, \"#0d0887\"], [0.1111111111111111, \"#46039f\"], [0.2222222222222222, \"#7201a8\"], [0.3333333333333333, \"#9c179e\"], [0.4444444444444444, \"#bd3786\"], [0.5555555555555556, \"#d8576b\"], [0.6666666666666666, \"#ed7953\"], [0.7777777777777778, \"#fb9f3a\"], [0.8888888888888888, \"#fdca26\"], [1.0, \"#f0f921\"]], \"sequentialminus\": [[0.0, \"#0d0887\"], [0.1111111111111111, \"#46039f\"], [0.2222222222222222, \"#7201a8\"], [0.3333333333333333, \"#9c179e\"], [0.4444444444444444, \"#bd3786\"], [0.5555555555555556, \"#d8576b\"], [0.6666666666666666, \"#ed7953\"], [0.7777777777777778, \"#fb9f3a\"], [0.8888888888888888, \"#fdca26\"], [1.0, \"#f0f921\"]]}, \"colorway\": [\"#636efa\", \"#EF553B\", \"#00cc96\", \"#ab63fa\", \"#FFA15A\", \"#19d3f3\", \"#FF6692\", \"#B6E880\", \"#FF97FF\", \"#FECB52\"], \"font\": {\"color\": \"#2a3f5f\"}, \"geo\": {\"bgcolor\": \"white\", \"lakecolor\": \"white\", \"landcolor\": \"#E5ECF6\", \"showlakes\": true, \"showland\": true, \"subunitcolor\": \"white\"}, \"hoverlabel\": {\"align\": \"left\"}, \"hovermode\": \"closest\", \"mapbox\": {\"style\": \"light\"}, \"paper_bgcolor\": \"white\", \"plot_bgcolor\": \"#E5ECF6\", \"polar\": {\"angularaxis\": {\"gridcolor\": \"white\", \"linecolor\": \"white\", \"ticks\": \"\"}, \"bgcolor\": \"#E5ECF6\", \"radialaxis\": {\"gridcolor\": \"white\", \"linecolor\": \"white\", \"ticks\": \"\"}}, \"scene\": {\"xaxis\": {\"backgroundcolor\": \"#E5ECF6\", \"gridcolor\": \"white\", \"gridwidth\": 2, \"linecolor\": \"white\", \"showbackground\": true, \"ticks\": \"\", \"zerolinecolor\": \"white\"}, \"yaxis\": {\"backgroundcolor\": \"#E5ECF6\", \"gridcolor\": \"white\", \"gridwidth\": 2, \"linecolor\": \"white\", \"showbackground\": true, \"ticks\": \"\", \"zerolinecolor\": \"white\"}, \"zaxis\": {\"backgroundcolor\": \"#E5ECF6\", \"gridcolor\": \"white\", \"gridwidth\": 2, \"linecolor\": \"white\", \"showbackground\": true, \"ticks\": \"\", \"zerolinecolor\": \"white\"}}, \"shapedefaults\": {\"line\": {\"color\": \"#2a3f5f\"}}, \"ternary\": {\"aaxis\": {\"gridcolor\": \"white\", \"linecolor\": \"white\", \"ticks\": \"\"}, \"baxis\": {\"gridcolor\": \"white\", \"linecolor\": \"white\", \"ticks\": \"\"}, \"bgcolor\": \"#E5ECF6\", \"caxis\": {\"gridcolor\": \"white\", \"linecolor\": \"white\", \"ticks\": \"\"}}, \"title\": {\"x\": 0.05}, \"xaxis\": {\"automargin\": true, \"gridcolor\": \"white\", \"linecolor\": \"white\", \"ticks\": \"\", \"title\": {\"standoff\": 15}, \"zerolinecolor\": \"white\", \"zerolinewidth\": 2}, \"yaxis\": {\"automargin\": true, \"gridcolor\": \"white\", \"linecolor\": \"white\", \"ticks\": \"\", \"title\": {\"standoff\": 15}, \"zerolinecolor\": \"white\", \"zerolinewidth\": 2}}}, \"updatemenus\": [{\"buttons\": [{\"args\": [null, {\"frame\": {\"duration\": 500, \"redraw\": false}, \"fromcurrent\": true, \"mode\": \"immediate\", \"transition\": {\"duration\": 500, \"easing\": \"linear\"}}], \"label\": \"&#9654;\", \"method\": \"animate\"}, {\"args\": [[null], {\"frame\": {\"duration\": 0, \"redraw\": false}, \"fromcurrent\": true, \"mode\": \"immediate\", \"transition\": {\"duration\": 0, \"easing\": \"linear\"}}], \"label\": \"&#9724;\", \"method\": \"animate\"}], \"direction\": \"left\", \"pad\": {\"r\": 10, \"t\": 70}, \"showactive\": false, \"type\": \"buttons\", \"x\": 0.1, \"xanchor\": \"right\", \"y\": 0, \"yanchor\": \"top\"}], \"xaxis\": {\"anchor\": \"y\", \"domain\": [0.0, 1.0], \"range\": [0, 0.7], \"tickformat\": \",.0%\", \"title\": {\"text\": \"prob\"}}, \"yaxis\": {\"anchor\": \"x\", \"domain\": [0.0, 1.0], \"title\": {\"text\": \"channelGrouping\"}}},\n",
              "                        {\"responsive\": true}\n",
              "                    ).then(function(){\n",
              "                            Plotly.addFrames('794a1941-99d8-4db8-8f13-82d2d8be286a', [{\"data\": [{\"hoverlabel\": {\"namelength\": 0}, \"hovertemplate\": \"<b>%{hovertext}</b><br><br>path_id=1<br>prob=%{x}<br>channelGrouping=%{y}\", \"hovertext\": [5.428586938819825e-05, 0.0010314315183757668, 0.17925194071983064, 0.01921719776342218, 0.29357798165137616, 0.037511535747244994, 0.46056131588947397, 0.008794310840888117], \"legendgroup\": \"\", \"marker\": {\"color\": \"#636efa\", \"symbol\": \"circle\"}, \"mode\": \"markers\", \"name\": \"\", \"showlegend\": false, \"x\": [5.428586938819825e-05, 0.0010314315183757668, 0.17925194071983064, 0.01921719776342218, 0.29357798165137616, 0.037511535747244994, 0.46056131588947397, 0.008794310840888117], \"xaxis\": \"x\", \"y\": [\"(Other)\", \"Affiliates\", \"Direct\", \"Display\", \"Organic Search\", \"Paid Search\", \"Referral\", \"Social\"], \"yaxis\": \"y\", \"type\": \"scatter\"}], \"name\": \"1\"}, {\"data\": [{\"hoverlabel\": {\"namelength\": 0}, \"hovertemplate\": \"<b>%{hovertext}</b><br><br>path_id=2<br>prob=%{x}<br>channelGrouping=%{y}\", \"hovertext\": [0.000493339911198816, 0.17464232856438086, 0.018746916625555006, 0.23630981746423285, 0.036507153428712386, 0.5249136655155402, 0.008386778490379871], \"legendgroup\": \"\", \"marker\": {\"color\": \"#636efa\", \"symbol\": \"circle\"}, \"mode\": \"markers\", \"name\": \"\", \"showlegend\": false, \"x\": [0.000493339911198816, 0.17464232856438086, 0.018746916625555006, 0.23630981746423285, 0.036507153428712386, 0.5249136655155402, 0.008386778490379871], \"xaxis\": \"x\", \"y\": [\"(Other)\", \"Direct\", \"Display\", \"Organic Search\", \"Paid Search\", \"Referral\", \"Social\"], \"yaxis\": \"y\", \"type\": \"scatter\"}], \"name\": \"2\"}, {\"data\": [{\"hoverlabel\": {\"namelength\": 0}, \"hovertemplate\": \"<b>%{hovertext}</b><br><br>path_id=3<br>prob=%{x}<br>channelGrouping=%{y}\", \"hovertext\": [0.2504930966469428, 0.023668639053254437, 0.23865877712031558, 0.03550295857988166, 0.4516765285996055], \"legendgroup\": \"\", \"marker\": {\"color\": \"#636efa\", \"symbol\": \"circle\"}, \"mode\": \"markers\", \"name\": \"\", \"showlegend\": false, \"x\": [0.2504930966469428, 0.023668639053254437, 0.23865877712031558, 0.03550295857988166, 0.4516765285996055], \"xaxis\": \"x\", \"y\": [\"Direct\", \"Display\", \"Organic Search\", \"Paid Search\", \"Referral\"], \"yaxis\": \"y\", \"type\": \"scatter\"}], \"name\": \"3\"}, {\"data\": [{\"hoverlabel\": {\"namelength\": 0}, \"hovertemplate\": \"<b>%{hovertext}</b><br><br>path_id=4<br>prob=%{x}<br>channelGrouping=%{y}\", \"hovertext\": [0.36787564766839376, 0.010362694300518135, 0.26424870466321243, 0.015544041450777202, 0.34196891191709844], \"legendgroup\": \"\", \"marker\": {\"color\": \"#636efa\", \"symbol\": \"circle\"}, \"mode\": \"markers\", \"name\": \"\", \"showlegend\": false, \"x\": [0.36787564766839376, 0.010362694300518135, 0.26424870466321243, 0.015544041450777202, 0.34196891191709844], \"xaxis\": \"x\", \"y\": [\"Direct\", \"Display\", \"Organic Search\", \"Paid Search\", \"Referral\"], \"yaxis\": \"y\", \"type\": \"scatter\"}], \"name\": \"4\"}, {\"data\": [{\"hoverlabel\": {\"namelength\": 0}, \"hovertemplate\": \"<b>%{hovertext}</b><br><br>path_id=5<br>prob=%{x}<br>channelGrouping=%{y}\", \"hovertext\": [0.40217391304347827, 0.05434782608695652, 0.25, 0.021739130434782608, 0.2717391304347826], \"legendgroup\": \"\", \"marker\": {\"color\": \"#636efa\", \"symbol\": \"circle\"}, \"mode\": \"markers\", \"name\": \"\", \"showlegend\": false, \"x\": [0.40217391304347827, 0.05434782608695652, 0.25, 0.021739130434782608, 0.2717391304347826], \"xaxis\": \"x\", \"y\": [\"Direct\", \"Display\", \"Organic Search\", \"Paid Search\", \"Referral\"], \"yaxis\": \"y\", \"type\": \"scatter\"}], \"name\": \"5\"}, {\"data\": [{\"hoverlabel\": {\"namelength\": 0}, \"hovertemplate\": \"<b>%{hovertext}</b><br><br>path_id=6<br>prob=%{x}<br>channelGrouping=%{y}\", \"hovertext\": [0.48, 0.04, 0.21333333333333335, 0.04, 0.22666666666666666], \"legendgroup\": \"\", \"marker\": {\"color\": \"#636efa\", \"symbol\": \"circle\"}, \"mode\": \"markers\", \"name\": \"\", \"showlegend\": false, \"x\": [0.48, 0.04, 0.21333333333333335, 0.04, 0.22666666666666666], \"xaxis\": \"x\", \"y\": [\"Direct\", \"Display\", \"Organic Search\", \"Paid Search\", \"Referral\"], \"yaxis\": \"y\", \"type\": \"scatter\"}], \"name\": \"6\"}, {\"data\": [{\"hoverlabel\": {\"namelength\": 0}, \"hovertemplate\": \"<b>%{hovertext}</b><br><br>path_id=7<br>prob=%{x}<br>channelGrouping=%{y}\", \"hovertext\": [0.38333333333333336, 0.2833333333333333, 0.18333333333333332, 0.016666666666666666, 0.13333333333333333], \"legendgroup\": \"\", \"marker\": {\"color\": \"#636efa\", \"symbol\": \"circle\"}, \"mode\": \"markers\", \"name\": \"\", \"showlegend\": false, \"x\": [0.38333333333333336, 0.2833333333333333, 0.18333333333333332, 0.016666666666666666, 0.13333333333333333], \"xaxis\": \"x\", \"y\": [\"Direct\", \"Display\", \"Organic Search\", \"Paid Search\", \"Referral\"], \"yaxis\": \"y\", \"type\": \"scatter\"}], \"name\": \"7\"}, {\"data\": [{\"hoverlabel\": {\"namelength\": 0}, \"hovertemplate\": \"<b>%{hovertext}</b><br><br>path_id=8<br>prob=%{x}<br>channelGrouping=%{y}\", \"hovertext\": [0.3333333333333333, 0.08333333333333333, 0.25, 0.041666666666666664, 0.2916666666666667], \"legendgroup\": \"\", \"marker\": {\"color\": \"#636efa\", \"symbol\": \"circle\"}, \"mode\": \"markers\", \"name\": \"\", \"showlegend\": false, \"x\": [0.3333333333333333, 0.08333333333333333, 0.25, 0.041666666666666664, 0.2916666666666667], \"xaxis\": \"x\", \"y\": [\"Direct\", \"Display\", \"Organic Search\", \"Paid Search\", \"Referral\"], \"yaxis\": \"y\", \"type\": \"scatter\"}], \"name\": \"8\"}, {\"data\": [{\"hoverlabel\": {\"namelength\": 0}, \"hovertemplate\": \"<b>%{hovertext}</b><br><br>path_id=9<br>prob=%{x}<br>channelGrouping=%{y}\", \"hovertext\": [0.6363636363636364, 0.045454545454545456, 0.09090909090909091, 0.09090909090909091, 0.13636363636363635], \"legendgroup\": \"\", \"marker\": {\"color\": \"#636efa\", \"symbol\": \"circle\"}, \"mode\": \"markers\", \"name\": \"\", \"showlegend\": false, \"x\": [0.6363636363636364, 0.045454545454545456, 0.09090909090909091, 0.09090909090909091, 0.13636363636363635], \"xaxis\": \"x\", \"y\": [\"Direct\", \"Display\", \"Organic Search\", \"Paid Search\", \"Referral\"], \"yaxis\": \"y\", \"type\": \"scatter\"}], \"name\": \"9\"}, {\"data\": [{\"hoverlabel\": {\"namelength\": 0}, \"hovertemplate\": \"<b>%{hovertext}</b><br><br>path_id=10<br>prob=%{x}<br>channelGrouping=%{y}\", \"hovertext\": [0.5263157894736842, 0.15789473684210525, 0.10526315789473684, 0.10526315789473684, 0.10526315789473684], \"legendgroup\": \"\", \"marker\": {\"color\": \"#636efa\", \"symbol\": \"circle\"}, \"mode\": \"markers\", \"name\": \"\", \"showlegend\": false, \"x\": [0.5263157894736842, 0.15789473684210525, 0.10526315789473684, 0.10526315789473684, 0.10526315789473684], \"xaxis\": \"x\", \"y\": [\"Direct\", \"Display\", \"Organic Search\", \"Paid Search\", \"Referral\"], \"yaxis\": \"y\", \"type\": \"scatter\"}], \"name\": \"10\"}, {\"data\": [{\"hoverlabel\": {\"namelength\": 0}, \"hovertemplate\": \"<b>%{hovertext}</b><br><br>path_id=11<br>prob=%{x}<br>channelGrouping=%{y}\", \"hovertext\": [0.6153846153846154, 0.07692307692307693, 0.3076923076923077], \"legendgroup\": \"\", \"marker\": {\"color\": \"#636efa\", \"symbol\": \"circle\"}, \"mode\": \"markers\", \"name\": \"\", \"showlegend\": false, \"x\": [0.6153846153846154, 0.07692307692307693, 0.3076923076923077], \"xaxis\": \"x\", \"y\": [\"Direct\", \"Display\", \"Referral\"], \"yaxis\": \"y\", \"type\": \"scatter\"}], \"name\": \"11\"}, {\"data\": [{\"hoverlabel\": {\"namelength\": 0}, \"hovertemplate\": \"<b>%{hovertext}</b><br><br>path_id=12<br>prob=%{x}<br>channelGrouping=%{y}\", \"hovertext\": [0.5714285714285714, 0.14285714285714285, 0.2857142857142857], \"legendgroup\": \"\", \"marker\": {\"color\": \"#636efa\", \"symbol\": \"circle\"}, \"mode\": \"markers\", \"name\": \"\", \"showlegend\": false, \"x\": [0.5714285714285714, 0.14285714285714285, 0.2857142857142857], \"xaxis\": \"x\", \"y\": [\"Direct\", \"Display\", \"Referral\"], \"yaxis\": \"y\", \"type\": \"scatter\"}], \"name\": \"12\"}]);\n",
              "                        }).then(function(){\n",
              "                            \n",
              "var gd = document.getElementById('794a1941-99d8-4db8-8f13-82d2d8be286a');\n",
              "var x = new MutationObserver(function (mutations, observer) {{\n",
              "        var display = window.getComputedStyle(gd).display;\n",
              "        if (!display || display === 'none') {{\n",
              "            console.log([gd, 'removed!']);\n",
              "            Plotly.purge(gd);\n",
              "            observer.disconnect();\n",
              "        }}\n",
              "}});\n",
              "\n",
              "// Listen for the removal of the full notebook cells\n",
              "var notebookContainer = gd.closest('#notebook-container');\n",
              "if (notebookContainer) {{\n",
              "    x.observe(notebookContainer, {childList: true});\n",
              "}}\n",
              "\n",
              "// Listen for the clearing of the current output cell\n",
              "var outputEl = gd.closest('.output');\n",
              "if (outputEl) {{\n",
              "    x.observe(outputEl, {childList: true});\n",
              "}}\n",
              "\n",
              "                        })\n",
              "                };\n",
              "                \n",
              "            </script>\n",
              "        </div>\n",
              "</body>\n",
              "</html>"
            ]
          },
          "metadata": {
            "tags": []
          }
        }
      ]
    },
    {
      "cell_type": "code",
      "metadata": {
        "id": "4WhGt2-QBtFo",
        "colab_type": "code",
        "colab": {}
      },
      "source": [
        "pivotted= df_cj.pivot('path_id','channelGrouping','prob')\n",
        "pivotted = pivotted.fillna(0)"
      ],
      "execution_count": null,
      "outputs": []
    },
    {
      "cell_type": "markdown",
      "metadata": {
        "id": "7EIwC3MoVC7X",
        "colab_type": "text"
      },
      "source": [
        "- ### Heatmap of Customer Journey"
      ]
    },
    {
      "cell_type": "code",
      "metadata": {
        "id": "tps2ifPzAos6",
        "colab_type": "code",
        "colab": {
          "base_uri": "https://localhost:8080/",
          "height": 724
        },
        "outputId": "212a6b2c-0501-4318-cc1e-d4a02079b2ff"
      },
      "source": [
        "fig, ax = plt.subplots(figsize=(10,9))  \n",
        "sns.heatmap(pivotted, cmap = \"YlGnBu\" ,linewidths=1, annot = True,fmt='.0%')\n",
        "sns.set(font_scale=1.2)\n",
        "ax.set_xlabel('')\n",
        "ax.set_ylabel('Customer Conversion Path')\n",
        "ax.text(x=0.5, y=1.1, s='Customer Journey Plot', fontsize=16, weight='bold', ha='center', va='bottom', transform=ax.transAxes)\n",
        "ax.text(x=0.5, y=1.05, s='As customers return, channel shifts from Referral to other channels', fontsize=12, alpha=0.75, ha='center', va='bottom', transform=ax.transAxes)\n",
        "plt.xticks(rotation=60) \n"
      ],
      "execution_count": null,
      "outputs": [
        {
          "output_type": "execute_result",
          "data": {
            "text/plain": [
              "(array([0.5, 1.5, 2.5, 3.5, 4.5, 5.5, 6.5, 7.5]),\n",
              " <a list of 8 Text major ticklabel objects>)"
            ]
          },
          "metadata": {
            "tags": []
          },
          "execution_count": 130
        },
        {
          "output_type": "display_data",
          "data": {
            "image/png": "[encoded data removed]",
            "text/plain": [
              "<Figure size 720x648 with 2 Axes>"
            ]
          },
          "metadata": {
            "tags": []
          }
        }
      ]
    }
  ]
}